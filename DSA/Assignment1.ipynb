{
 "cells": [
  {
   "cell_type": "code",
   "execution_count": null,
   "metadata": {},
   "outputs": [],
   "source": []
  },
  {
   "cell_type": "markdown",
   "metadata": {},
   "source": [
    "1. Write a Python program to reverse a string without using any built-in string reversal functions."
   ]
  },
  {
   "cell_type": "code",
   "execution_count": 2,
   "metadata": {},
   "outputs": [],
   "source": [
    "def reverse_str(s):\n",
    "    return s[::-1]"
   ]
  },
  {
   "cell_type": "code",
   "execution_count": 4,
   "metadata": {},
   "outputs": [
    {
     "data": {
      "text/plain": [
       "'yadseuT si yadoT'"
      ]
     },
     "execution_count": 4,
     "metadata": {},
     "output_type": "execute_result"
    }
   ],
   "source": [
    "reverse_str('Today is Tuesday')"
   ]
  },
  {
   "cell_type": "markdown",
   "metadata": {},
   "source": [
    "2. Implement a function to check if a given string is a palindrome."
   ]
  },
  {
   "cell_type": "code",
   "execution_count": 8,
   "metadata": {},
   "outputs": [],
   "source": [
    "def check_palindrome(s):\n",
    "    if s.lower() == s[::-1].lower():\n",
    "        return 'Yes'\n",
    "    else:\n",
    "        return 'No'"
   ]
  },
  {
   "cell_type": "code",
   "execution_count": 9,
   "metadata": {},
   "outputs": [
    {
     "data": {
      "text/plain": [
       "'Yes'"
      ]
     },
     "execution_count": 9,
     "metadata": {},
     "output_type": "execute_result"
    }
   ],
   "source": [
    "check_palindrome('Malayalam')"
   ]
  },
  {
   "cell_type": "code",
   "execution_count": 10,
   "metadata": {},
   "outputs": [
    {
     "data": {
      "text/plain": [
       "'No'"
      ]
     },
     "execution_count": 10,
     "metadata": {},
     "output_type": "execute_result"
    }
   ],
   "source": [
    "check_palindrome('Course')"
   ]
  },
  {
   "cell_type": "markdown",
   "metadata": {},
   "source": [
    "3. Write a program to find the largest element in a given list."
   ]
  },
  {
   "cell_type": "code",
   "execution_count": 12,
   "metadata": {},
   "outputs": [
    {
     "data": {
      "text/plain": [
       "56"
      ]
     },
     "execution_count": 12,
     "metadata": {},
     "output_type": "execute_result"
    }
   ],
   "source": [
    "nums = [1,3,5,12,2,56,7]\n",
    "\n",
    "max_elem = float('-inf')\n",
    "\n",
    "for num in nums:\n",
    "    max_elem = max(max_elem, num)\n",
    "\n",
    "max_elem"
   ]
  },
  {
   "cell_type": "code",
   "execution_count": 13,
   "metadata": {},
   "outputs": [],
   "source": [
    "def find_max(nums):\n",
    "    return max(nums)"
   ]
  },
  {
   "cell_type": "code",
   "execution_count": 14,
   "metadata": {},
   "outputs": [
    {
     "data": {
      "text/plain": [
       "56"
      ]
     },
     "execution_count": 14,
     "metadata": {},
     "output_type": "execute_result"
    }
   ],
   "source": [
    "nums = [1,3,5,12,2,56,7]\n",
    "find_max(nums)"
   ]
  },
  {
   "cell_type": "code",
   "execution_count": 15,
   "metadata": {},
   "outputs": [],
   "source": [
    "def findMaxAlt(nums):\n",
    "    max_elem = float('-inf')\n",
    "\n",
    "    for num in nums:\n",
    "        if num > max_elem:\n",
    "            max_elem = num\n",
    "\n",
    "    return max_elem"
   ]
  },
  {
   "cell_type": "code",
   "execution_count": 16,
   "metadata": {},
   "outputs": [
    {
     "data": {
      "text/plain": [
       "56"
      ]
     },
     "execution_count": 16,
     "metadata": {},
     "output_type": "execute_result"
    }
   ],
   "source": [
    "nums = [1,3,5,12,2,56,7]\n",
    "findMaxAlt(nums)"
   ]
  },
  {
   "cell_type": "markdown",
   "metadata": {},
   "source": [
    "4. Implement a function to count the occurrence of each element in a list."
   ]
  },
  {
   "cell_type": "code",
   "execution_count": 22,
   "metadata": {},
   "outputs": [],
   "source": [
    "def counter(nums):\n",
    "    h_count = {}\n",
    "\n",
    "    for i in nums:\n",
    "        if i not in h_count:\n",
    "            h_count[i] = 1\n",
    "        else:\n",
    "            h_count[i] += 1\n",
    "\n",
    "    for key, val in h_count.items():\n",
    "        print(f\"{key} occurs {val} times\")"
   ]
  },
  {
   "cell_type": "code",
   "execution_count": 23,
   "metadata": {},
   "outputs": [
    {
     "name": "stdout",
     "output_type": "stream",
     "text": [
      "1 occurs 1 times\n",
      "2 occurs 2 times\n",
      "3 occurs 4 times\n",
      "4 occurs 2 times\n",
      "5 occurs 1 times\n",
      "6 occurs 2 times\n",
      "7 occurs 3 times\n"
     ]
    }
   ],
   "source": [
    "nums = [1,2,2,3,3,3,3,4,4,5,6,6,7,7,7]\n",
    "counter(nums)"
   ]
  },
  {
   "cell_type": "markdown",
   "metadata": {},
   "source": [
    "5. Write a Python program to find the second largest number in a list."
   ]
  },
  {
   "cell_type": "code",
   "execution_count": 1,
   "metadata": {},
   "outputs": [],
   "source": [
    "def secondLargest(nums):\n",
    "    return sorted(nums, reverse=True)[1]"
   ]
  },
  {
   "cell_type": "code",
   "execution_count": 28,
   "metadata": {},
   "outputs": [
    {
     "data": {
      "text/plain": [
       "65"
      ]
     },
     "execution_count": 28,
     "metadata": {},
     "output_type": "execute_result"
    }
   ],
   "source": [
    "nums = [7, 65, 56, 89, 23, 12]\n",
    "secondLargest(nums)"
   ]
  },
  {
   "cell_type": "code",
   "execution_count": 34,
   "metadata": {},
   "outputs": [
    {
     "data": {
      "text/plain": [
       "65"
      ]
     },
     "execution_count": 34,
     "metadata": {},
     "output_type": "execute_result"
    }
   ],
   "source": [
    "import heapq\n",
    "\n",
    "def secondLargestAlt(nums, k):\n",
    "    min_heap = []\n",
    "\n",
    "    for num in nums:\n",
    "        #If there are elements lesser than 'k' in min heap then we add those elements\n",
    "        if len(min_heap) < k:\n",
    "            heapq.heappush(min_heap, num)\n",
    "        else:\n",
    "            #Now we compare if the current element is greater than the root element in min heap\n",
    "            if num > min_heap[0]:\n",
    "                # If current element is greater than we pop the root and add current element\n",
    "                heapq.heappop(min_heap)\n",
    "                heapq.heappush(min_heap, num)\n",
    "\n",
    "    return min_heap[0]\n",
    "\n",
    "nums = [7, 65, 56, 89, 23, 12]\n",
    "k = 2\n",
    "\n",
    "secondLargestAlt(nums, k)"
   ]
  },
  {
   "cell_type": "markdown",
   "metadata": {},
   "source": [
    "6. Implement a function to remove duplicate elements from a list."
   ]
  },
  {
   "cell_type": "code",
   "execution_count": 36,
   "metadata": {},
   "outputs": [
    {
     "data": {
      "text/plain": [
       "[1, 2, 3, 4, 5, 6, 7]"
      ]
     },
     "execution_count": 36,
     "metadata": {},
     "output_type": "execute_result"
    }
   ],
   "source": [
    "def removeDuplicate(nums):\n",
    "    return list(set(nums))\n",
    "\n",
    "nums = [1,2,2,3,3,3,3,4,4,5,6,6,7,7,7]\n",
    "removeDuplicate(nums)"
   ]
  },
  {
   "cell_type": "markdown",
   "metadata": {},
   "source": [
    "7. Write a program to calculate the factorial of a given number."
   ]
  },
  {
   "cell_type": "code",
   "execution_count": 38,
   "metadata": {},
   "outputs": [
    {
     "data": {
      "text/plain": [
       "120"
      ]
     },
     "execution_count": 38,
     "metadata": {},
     "output_type": "execute_result"
    }
   ],
   "source": [
    "num = 5\n",
    "\n",
    "res = 1\n",
    "\n",
    "while num:\n",
    "    res *= num\n",
    "    num -= 1\n",
    "\n",
    "res"
   ]
  },
  {
   "cell_type": "code",
   "execution_count": 39,
   "metadata": {},
   "outputs": [
    {
     "data": {
      "text/plain": [
       "5040"
      ]
     },
     "execution_count": 39,
     "metadata": {},
     "output_type": "execute_result"
    }
   ],
   "source": [
    "def findFactorial(num):\n",
    "    res = 1\n",
    "\n",
    "    while num:\n",
    "        res *= num\n",
    "        num -= 1\n",
    "\n",
    "    return res\n",
    "\n",
    "num = 7\n",
    "findFactorial(num)"
   ]
  },
  {
   "cell_type": "markdown",
   "metadata": {},
   "source": [
    "8. Implement a function to check if a given number is prime."
   ]
  },
  {
   "cell_type": "code",
   "execution_count": 44,
   "metadata": {},
   "outputs": [
    {
     "data": {
      "text/plain": [
       "True"
      ]
     },
     "execution_count": 44,
     "metadata": {},
     "output_type": "execute_result"
    }
   ],
   "source": [
    "import math\n",
    "\n",
    "def findIfPrime(num):\n",
    "    flag = True\n",
    "    if num < 2:\n",
    "        return False\n",
    "    \n",
    "    for n in range(2, int(math.sqrt(num))+1):\n",
    "        if num % n == 0:\n",
    "            return False\n",
    "    \n",
    "    return flag\n",
    "        \n",
    "findIfPrime(79)"
   ]
  },
  {
   "cell_type": "markdown",
   "metadata": {},
   "source": [
    "9. Write a Python program to sort a list of integers in ascending order."
   ]
  },
  {
   "cell_type": "code",
   "execution_count": 45,
   "metadata": {},
   "outputs": [
    {
     "data": {
      "text/plain": [
       "[7, 12, 23, 56, 65, 89]"
      ]
     },
     "execution_count": 45,
     "metadata": {},
     "output_type": "execute_result"
    }
   ],
   "source": [
    "def returnAscending(nums):\n",
    "    return sorted(nums)\n",
    "\n",
    "nums = [7, 65, 56, 89, 23, 12]\n",
    "returnAscending(nums)"
   ]
  },
  {
   "cell_type": "markdown",
   "metadata": {},
   "source": [
    "10. Implement a function to find the sum of all numbers in a list."
   ]
  },
  {
   "cell_type": "code",
   "execution_count": 47,
   "metadata": {},
   "outputs": [
    {
     "data": {
      "text/plain": [
       "58"
      ]
     },
     "execution_count": 47,
     "metadata": {},
     "output_type": "execute_result"
    }
   ],
   "source": [
    "def returnSum(nums):\n",
    "    return sum(nums)\n",
    "\n",
    "nums = [10, 5, 8, 20, 15]\n",
    "returnSum(nums)"
   ]
  },
  {
   "cell_type": "markdown",
   "metadata": {},
   "source": [
    "11. Write a program to find the common elements between two lists."
   ]
  },
  {
   "cell_type": "code",
   "execution_count": 49,
   "metadata": {},
   "outputs": [
    {
     "data": {
      "text/plain": [
       "[2, 3]"
      ]
     },
     "execution_count": 49,
     "metadata": {},
     "output_type": "execute_result"
    }
   ],
   "source": [
    "def findCommon(ls1, ls2):\n",
    "    res = []\n",
    "    for i in ls1:\n",
    "        if i in ls2:\n",
    "            res.append(i)\n",
    "\n",
    "    return res\n",
    "\n",
    "ls1 = [1,2,3,4]\n",
    "ls2 = [2,3]\n",
    "findCommon(ls1, ls2)"
   ]
  },
  {
   "cell_type": "markdown",
   "metadata": {},
   "source": [
    "12. Implement a function to check if a given string is an anagram of another string."
   ]
  },
  {
   "cell_type": "code",
   "execution_count": 62,
   "metadata": {},
   "outputs": [],
   "source": [
    "def checkAnagram(s1, s2):\n",
    "    h_count = {}\n",
    "\n",
    "    if len(s1) != len(s2):\n",
    "        return False\n",
    "\n",
    "    for i in s1:\n",
    "        if i not in h_count:\n",
    "            h_count[i] = 1\n",
    "        else:\n",
    "            h_count[i] += 1\n",
    "\n",
    "    for j in s2:\n",
    "        if j not in h_count:\n",
    "            return False\n",
    "        else:\n",
    "            h_count[j] -= 1\n",
    "\n",
    "    if sum(h_count.values()) == 0:\n",
    "        return True\n",
    "    else:\n",
    "        return False"
   ]
  },
  {
   "cell_type": "code",
   "execution_count": 60,
   "metadata": {},
   "outputs": [
    {
     "data": {
      "text/plain": [
       "True"
      ]
     },
     "execution_count": 60,
     "metadata": {},
     "output_type": "execute_result"
    }
   ],
   "source": [
    "s1 = \"listen\"  \n",
    "s2 = \"silent\"\n",
    "checkAnagram(s1, s2)"
   ]
  },
  {
   "cell_type": "code",
   "execution_count": 61,
   "metadata": {},
   "outputs": [
    {
     "data": {
      "text/plain": [
       "False"
      ]
     },
     "execution_count": 61,
     "metadata": {},
     "output_type": "execute_result"
    }
   ],
   "source": [
    "s1 = \"listens\"  \n",
    "s2 = \"silent\"\n",
    "checkAnagram(s1, s2)"
   ]
  },
  {
   "cell_type": "code",
   "execution_count": 65,
   "metadata": {},
   "outputs": [],
   "source": [
    "def checkAnagramAlt(s1, s2):\n",
    "    if len(s1) != len(s2):\n",
    "        return False\n",
    "    \n",
    "    char_count = [0] * 26\n",
    "\n",
    "    for i in s1:\n",
    "        index = ord(i) - ord('a')\n",
    "        char_count[index] += 1\n",
    "\n",
    "    for j in s2:\n",
    "        index = ord(j) - ord('a')\n",
    "        char_count[index] -= 1\n",
    "\n",
    "    for count in char_count:\n",
    "        if count != 0:\n",
    "            return False\n",
    "    return True"
   ]
  },
  {
   "cell_type": "code",
   "execution_count": 66,
   "metadata": {},
   "outputs": [
    {
     "data": {
      "text/plain": [
       "True"
      ]
     },
     "execution_count": 66,
     "metadata": {},
     "output_type": "execute_result"
    }
   ],
   "source": [
    "s1 = \"listen\"  \n",
    "s2 = \"silent\"\n",
    "checkAnagramAlt(s1, s2)"
   ]
  },
  {
   "cell_type": "code",
   "execution_count": 67,
   "metadata": {},
   "outputs": [
    {
     "data": {
      "text/plain": [
       "False"
      ]
     },
     "execution_count": 67,
     "metadata": {},
     "output_type": "execute_result"
    }
   ],
   "source": [
    "s1 = \"listens\"  \n",
    "s2 = \"silent\"\n",
    "checkAnagram(s1, s2)"
   ]
  },
  {
   "cell_type": "markdown",
   "metadata": {},
   "source": [
    "13. Write a Python program to generate all permutations of a given string."
   ]
  },
  {
   "cell_type": "code",
   "execution_count": 83,
   "metadata": {},
   "outputs": [
    {
     "data": {
      "text/plain": [
       "['sat', 'sta', 'ast', 'ats', 'tsa', 'tas']"
      ]
     },
     "execution_count": 83,
     "metadata": {},
     "output_type": "execute_result"
    }
   ],
   "source": [
    "def findStrings(s):\n",
    "    if len(s) == 0:\n",
    "        return []\n",
    "\n",
    "    if len(s) == 1:\n",
    "        return [s]\n",
    "\n",
    "    permutations = [] \n",
    "\n",
    "    for i in range(len(s)):\n",
    "        current_char = s[i]\n",
    "\n",
    "        remaining_chars = s[:i] + s[i + 1:]\n",
    "        remaining_permutations = findStrings(remaining_chars)\n",
    "\n",
    "        for perm in remaining_permutations:\n",
    "            permutations.append(current_char + perm)\n",
    "\n",
    "    return permutations\n",
    "\n",
    "s = 'sat'\n",
    "findStrings(s)"
   ]
  },
  {
   "cell_type": "markdown",
   "metadata": {},
   "source": [
    "14. Implement a function to calculate the Fibonacci sequence up to a given number of terms."
   ]
  },
  {
   "cell_type": "code",
   "execution_count": 3,
   "metadata": {},
   "outputs": [],
   "source": [
    "def getFibonacci(n):\n",
    "    count = 0\n",
    "\n",
    "    prev = 0\n",
    "    curr = 1\n",
    "    res = [prev, curr]\n",
    "\n",
    "    while count < n:\n",
    "        new = prev + curr \n",
    "        prev = curr \n",
    "        curr = new \n",
    "        res.append(new)\n",
    "        count += 1\n",
    "\n",
    "    return res"
   ]
  },
  {
   "cell_type": "code",
   "execution_count": 4,
   "metadata": {},
   "outputs": [
    {
     "data": {
      "text/plain": [
       "[0, 1, 1, 2, 3, 5, 8]"
      ]
     },
     "execution_count": 4,
     "metadata": {},
     "output_type": "execute_result"
    }
   ],
   "source": [
    "n = 5\n",
    "getFibonacci(n)"
   ]
  },
  {
   "cell_type": "code",
   "execution_count": 5,
   "metadata": {},
   "outputs": [
    {
     "data": {
      "text/plain": [
       "[0, 1, 1, 2, 3, 5, 8, 13, 21, 34, 55, 89]"
      ]
     },
     "execution_count": 5,
     "metadata": {},
     "output_type": "execute_result"
    }
   ],
   "source": [
    "n = 10\n",
    "getFibonacci(n)"
   ]
  },
  {
   "cell_type": "markdown",
   "metadata": {},
   "source": [
    "15. Write a program to find the median of a list of numbers."
   ]
  },
  {
   "cell_type": "code",
   "execution_count": 7,
   "metadata": {},
   "outputs": [
    {
     "data": {
      "text/plain": [
       "48"
      ]
     },
     "execution_count": 7,
     "metadata": {},
     "output_type": "execute_result"
    }
   ],
   "source": [
    "nums = [41, 29, 7, 93, 19, 48, 80, 88, 97, 62]\n",
    "\n",
    "n = len(nums) // 2\n",
    "\n",
    "nums[n]"
   ]
  },
  {
   "cell_type": "code",
   "execution_count": 12,
   "metadata": {},
   "outputs": [
    {
     "data": {
      "text/plain": [
       "48"
      ]
     },
     "execution_count": 12,
     "metadata": {},
     "output_type": "execute_result"
    }
   ],
   "source": [
    "def findMedian(nums):\n",
    "    n = len(nums) // 2\n",
    "\n",
    "    #Odd\n",
    "    if n % 2 == 1:\n",
    "        return nums[n]\n",
    "    #Even\n",
    "    else:\n",
    "        mid1 = nums[n-1]\n",
    "        mid2 = nums[n]\n",
    "        return (mid1 + mid2) // 2\n",
    "\n",
    "nums = [41, 29, 7, 93, 19, 48, 80, 88, 97, 62]\n",
    "findMedian(nums)"
   ]
  },
  {
   "cell_type": "code",
   "execution_count": 13,
   "metadata": {},
   "outputs": [
    {
     "data": {
      "text/plain": [
       "33"
      ]
     },
     "execution_count": 13,
     "metadata": {},
     "output_type": "execute_result"
    }
   ],
   "source": [
    "nums = [29, 7, 93, 19, 48, 80, 88, 97, 62]\n",
    "findMedian(nums)"
   ]
  },
  {
   "cell_type": "markdown",
   "metadata": {},
   "source": [
    "16. Implement a function to check if a given list is sorted in non-decreasing order."
   ]
  },
  {
   "cell_type": "code",
   "execution_count": 18,
   "metadata": {},
   "outputs": [
    {
     "data": {
      "text/plain": [
       "True"
      ]
     },
     "execution_count": 18,
     "metadata": {},
     "output_type": "execute_result"
    }
   ],
   "source": [
    "def checkAscending(nums):\n",
    "    for curr in range(1, len(nums)):\n",
    "        if nums[curr] < nums[curr-1]:\n",
    "            return False \n",
    "    return True\n",
    "\n",
    "\n",
    "nums = [1,3,4,6, 9]\n",
    "checkAscending(nums)"
   ]
  },
  {
   "cell_type": "code",
   "execution_count": 19,
   "metadata": {},
   "outputs": [
    {
     "data": {
      "text/plain": [
       "False"
      ]
     },
     "execution_count": 19,
     "metadata": {},
     "output_type": "execute_result"
    }
   ],
   "source": [
    "nums = [1,3,4,6, 9, -1]\n",
    "checkAscending(nums)"
   ]
  },
  {
   "cell_type": "markdown",
   "metadata": {},
   "source": [
    "17. Write a Python program to find the intersection of two lists."
   ]
  },
  {
   "cell_type": "code",
   "execution_count": 23,
   "metadata": {},
   "outputs": [
    {
     "data": {
      "text/plain": [
       "[2, 3]"
      ]
     },
     "execution_count": 23,
     "metadata": {},
     "output_type": "execute_result"
    }
   ],
   "source": [
    "def findIntersection(ls1, ls2):\n",
    "    res = []\n",
    "    for i in ls1:\n",
    "        if i in ls2 and i not in res:\n",
    "            res.append(i)\n",
    "\n",
    "    return res\n",
    "\n",
    "ls1 = [1,2,2, 3,4]\n",
    "ls2 = [2,3]\n",
    "findIntersection(ls1, ls2)"
   ]
  },
  {
   "cell_type": "markdown",
   "metadata": {},
   "source": [
    "18. Implement a function to find the maximum subarray sum in a given list."
   ]
  },
  {
   "cell_type": "code",
   "execution_count": 24,
   "metadata": {},
   "outputs": [
    {
     "data": {
      "text/plain": [
       "6"
      ]
     },
     "execution_count": 24,
     "metadata": {},
     "output_type": "execute_result"
    }
   ],
   "source": [
    "nums = [-2, 1, -3, 4, -1, 2, 1, -5, 4]\n",
    "\n",
    "curr_sum = 0\n",
    "max_sum = float('-inf') \n",
    "\n",
    "for num in nums:\n",
    "    curr_sum = max(num, curr_sum+num)\n",
    "    max_sum = max(max_sum, curr_sum)\n",
    "\n",
    "max_sum"
   ]
  },
  {
   "cell_type": "code",
   "execution_count": 25,
   "metadata": {},
   "outputs": [
    {
     "data": {
      "text/plain": [
       "21"
      ]
     },
     "execution_count": 25,
     "metadata": {},
     "output_type": "execute_result"
    }
   ],
   "source": [
    "def findSum(nums):\n",
    "    curr_sum = 0\n",
    "    max_sum = float('-inf') \n",
    "\n",
    "    for num in nums:\n",
    "        #If current number is greater than sum of the current subarray then we change curr_sum to current element\n",
    "        curr_sum = max(num, curr_sum+num)\n",
    "        max_sum = max(max_sum, curr_sum)\n",
    "\n",
    "    return max_sum\n",
    "\n",
    "nums = [1,5,7,8]\n",
    "findSum(nums)"
   ]
  },
  {
   "cell_type": "code",
   "execution_count": 26,
   "metadata": {},
   "outputs": [
    {
     "data": {
      "text/plain": [
       "6"
      ]
     },
     "execution_count": 26,
     "metadata": {},
     "output_type": "execute_result"
    }
   ],
   "source": [
    "nums = [-2, 1, -3, 4, -1, 2, 1, -5, 4]\n",
    "findSum(nums)"
   ]
  },
  {
   "cell_type": "markdown",
   "metadata": {},
   "source": [
    "19. Write a program to remove all vowels from a given string."
   ]
  },
  {
   "cell_type": "code",
   "execution_count": 31,
   "metadata": {},
   "outputs": [
    {
     "data": {
      "text/plain": [
       "'st f wrds tht s cmplt n tslf, typclly cntnng  sbjct nd prdct, cnvyng  sttmnt'"
      ]
     },
     "execution_count": 31,
     "metadata": {},
     "output_type": "execute_result"
    }
   ],
   "source": [
    "def removeVowels(s):\n",
    "    vowels = ['a','e','i','o','u']\n",
    "\n",
    "    for i in s:\n",
    "        if i in vowels:\n",
    "            s=s.replace(i, '')\n",
    "\n",
    "    return s.strip()\n",
    "\n",
    "s = 'a set of words that is complete in itself, typically containing a subject and predicate, conveying a statement' \n",
    "removeVowels(s)"
   ]
  },
  {
   "cell_type": "markdown",
   "metadata": {},
   "source": [
    "20. Implement a function to reverse the order of words in a given sentence."
   ]
  },
  {
   "cell_type": "code",
   "execution_count": 34,
   "metadata": {},
   "outputs": [
    {
     "data": {
      "text/plain": [
       "['you?', 'are', 'how', 'Hello,']"
      ]
     },
     "execution_count": 34,
     "metadata": {},
     "output_type": "execute_result"
    }
   ],
   "source": [
    "s = 'Hello, how are you?'\n",
    "\n",
    "s.split()[::-1]"
   ]
  },
  {
   "cell_type": "code",
   "execution_count": 37,
   "metadata": {},
   "outputs": [
    {
     "data": {
      "text/plain": [
       "'you? are how Hello,'"
      ]
     },
     "execution_count": 37,
     "metadata": {},
     "output_type": "execute_result"
    }
   ],
   "source": [
    "def reverseOrder(s):\n",
    "    return ' '.join(s.split()[::-1])\n",
    "\n",
    "s = 'Hello, how are you?'\n",
    "reverseOrder(s)"
   ]
  },
  {
   "cell_type": "markdown",
   "metadata": {},
   "source": [
    "21. Write a Python program to check if two strings are anagrams of each other."
   ]
  },
  {
   "cell_type": "code",
   "execution_count": 38,
   "metadata": {},
   "outputs": [],
   "source": [
    "def checkAnagram(s1, s2):\n",
    "    h_count = {}\n",
    "\n",
    "    if len(s1) != len(s2):\n",
    "        return False\n",
    "\n",
    "    for i in s1:\n",
    "        if i not in h_count:\n",
    "            h_count[i] = 1\n",
    "        else:\n",
    "            h_count[i] += 1\n",
    "\n",
    "    for j in s2:\n",
    "        if j not in h_count:\n",
    "            return False\n",
    "        else:\n",
    "            h_count[j] -= 1\n",
    "\n",
    "    if sum(h_count.values()) == 0:\n",
    "        return True\n",
    "    else:\n",
    "        return False"
   ]
  },
  {
   "cell_type": "code",
   "execution_count": 39,
   "metadata": {},
   "outputs": [
    {
     "data": {
      "text/plain": [
       "True"
      ]
     },
     "execution_count": 39,
     "metadata": {},
     "output_type": "execute_result"
    }
   ],
   "source": [
    "s1 = \"listen\"  \n",
    "s2 = \"silent\"\n",
    "checkAnagram(s1, s2)"
   ]
  },
  {
   "cell_type": "markdown",
   "metadata": {},
   "source": [
    "22. Implement a function to find the first non-repeating character in a string."
   ]
  },
  {
   "cell_type": "code",
   "execution_count": 62,
   "metadata": {},
   "outputs": [
    {
     "data": {
      "text/plain": [
       "4"
      ]
     },
     "execution_count": 62,
     "metadata": {},
     "output_type": "execute_result"
    }
   ],
   "source": [
    "def findFirstNonRepeating(nums):\n",
    "    h_count = {}\n",
    "\n",
    "    for i in range(len(nums)):\n",
    "        if nums[i] not in h_count:\n",
    "            h_count[nums[i]] = 1\n",
    "        else:\n",
    "            h_count[nums[i]] += 1\n",
    "\n",
    "    for key, val in h_count.items():\n",
    "        if val == 1:\n",
    "            return key \n",
    "        \n",
    "\n",
    "nums = [1,1,2,4,2,3,5]\n",
    "findFirstNonRepeating(nums)"
   ]
  },
  {
   "cell_type": "markdown",
   "metadata": {},
   "source": [
    "23. Write a program to find the prime factors of a given number."
   ]
  },
  {
   "cell_type": "code",
   "execution_count": 64,
   "metadata": {},
   "outputs": [
    {
     "data": {
      "text/plain": [
       "[2, 2, 2, 3]"
      ]
     },
     "execution_count": 64,
     "metadata": {},
     "output_type": "execute_result"
    }
   ],
   "source": [
    "def findPrimeFactor(num):\n",
    "    factors = []\n",
    "    divisor = 2\n",
    "\n",
    "    while divisor <= num:\n",
    "        if num % divisor == 0:\n",
    "            factors.append(divisor)\n",
    "            num = num // divisor \n",
    "        else:\n",
    "            divisor += 1\n",
    "\n",
    "    return factors\n",
    "\n",
    "num = 24\n",
    "findPrimeFactor(num)"
   ]
  },
  {
   "cell_type": "code",
   "execution_count": 65,
   "metadata": {},
   "outputs": [
    {
     "data": {
      "text/plain": [
       "[3, 11]"
      ]
     },
     "execution_count": 65,
     "metadata": {},
     "output_type": "execute_result"
    }
   ],
   "source": [
    "num = 33\n",
    "findPrimeFactor(num)"
   ]
  },
  {
   "cell_type": "markdown",
   "metadata": {},
   "source": [
    "24. Implement a function to check if a given number is a power of two."
   ]
  },
  {
   "cell_type": "code",
   "execution_count": 69,
   "metadata": {},
   "outputs": [
    {
     "name": "stdout",
     "output_type": "stream",
     "text": [
      "32\n",
      "16\n",
      "8\n",
      "4\n",
      "2\n",
      "True\n"
     ]
    }
   ],
   "source": [
    "num = 64\n",
    "\n",
    "while num > 2:\n",
    "    if num % 2 == 0:\n",
    "        num //= 2\n",
    "        print(num)\n",
    "    else:\n",
    "        print('False')\n",
    "        break\n",
    "print('True')"
   ]
  },
  {
   "cell_type": "code",
   "execution_count": 77,
   "metadata": {},
   "outputs": [
    {
     "data": {
      "text/plain": [
       "False"
      ]
     },
     "execution_count": 77,
     "metadata": {},
     "output_type": "execute_result"
    }
   ],
   "source": [
    "def powerOfTwo(num):\n",
    "    if num < 1:\n",
    "        return False\n",
    "    \n",
    "    while num > 1:\n",
    "        if num % 2 != 0:\n",
    "            return False\n",
    "        num //= 2\n",
    "        \n",
    "    return True\n",
    "\n",
    "powerOfTwo(34)"
   ]
  },
  {
   "cell_type": "code",
   "execution_count": 76,
   "metadata": {},
   "outputs": [
    {
     "data": {
      "text/plain": [
       "True"
      ]
     },
     "execution_count": 76,
     "metadata": {},
     "output_type": "execute_result"
    }
   ],
   "source": [
    "powerOfTwo(32)"
   ]
  },
  {
   "cell_type": "markdown",
   "metadata": {},
   "source": [
    "25. Write a Python program to merge two sorted lists into a single sorted list."
   ]
  },
  {
   "cell_type": "code",
   "execution_count": 85,
   "metadata": {},
   "outputs": [
    {
     "data": {
      "text/plain": [
       "[1, 2, 3, 4, 5, 6, 7, 8, 9]"
      ]
     },
     "execution_count": 85,
     "metadata": {},
     "output_type": "execute_result"
    }
   ],
   "source": [
    "def mergeTwoLists(ls1, ls2):\n",
    "    res = []\n",
    "\n",
    "    p1, p2 = 0, 0\n",
    "\n",
    "    while p1 < len(ls1) and p2 < len(ls2):\n",
    "        if ls1[p1] <= ls2[p2]:\n",
    "            res.append(ls1[p1])\n",
    "            p1 += 1\n",
    "        else:\n",
    "            res.append(ls2[p2])\n",
    "            p2 += 1\n",
    "\n",
    "    return res\n",
    "\n",
    "ls1 = [1,3,5,7,9]\n",
    "ls2 = [2,4,6,8,10]\n",
    "mergeTwoLists(ls1, ls2)     "
   ]
  },
  {
   "cell_type": "markdown",
   "metadata": {},
   "source": [
    "26. Implement a function to find the mode of a list of numbers."
   ]
  },
  {
   "cell_type": "code",
   "execution_count": 6,
   "metadata": {},
   "outputs": [
    {
     "data": {
      "text/plain": [
       "4"
      ]
     },
     "execution_count": 6,
     "metadata": {},
     "output_type": "execute_result"
    }
   ],
   "source": [
    "def findMode(nums):\n",
    "    h_count = {}\n",
    "\n",
    "    for i in nums:\n",
    "        if i not in h_count:\n",
    "            h_count[i] = 1\n",
    "        else:\n",
    "            h_count[i] += 1\n",
    "\n",
    "    max_count = max(h_count.values())\n",
    "    mode = [key for key, val in h_count.items() if val == max_count]\n",
    "\n",
    "    return mode[0]\n",
    "\n",
    "nums = [1, 2, 2, 3, 4, 4, 4, 5]\n",
    "findMode(nums)"
   ]
  },
  {
   "cell_type": "markdown",
   "metadata": {},
   "source": [
    "27. Write a program to find the greatest common divisor (GCD) of two numbers."
   ]
  },
  {
   "cell_type": "code",
   "execution_count": 20,
   "metadata": {},
   "outputs": [
    {
     "data": {
      "text/plain": [
       "5"
      ]
     },
     "execution_count": 20,
     "metadata": {},
     "output_type": "execute_result"
    }
   ],
   "source": [
    "def GCD(a, b):\n",
    "    if b > a:\n",
    "        a, b = b, a\n",
    "\n",
    "    while b != 0:\n",
    "        remainder = a % b \n",
    "\n",
    "        a = b\n",
    "        b = remainder \n",
    "\n",
    "    return a\n",
    "    \n",
    "a = 15\n",
    "b = 10\n",
    "GCD(a,b)"
   ]
  },
  {
   "cell_type": "markdown",
   "metadata": {},
   "source": [
    "28. Implement a function to calculate the square root of a given number."
   ]
  },
  {
   "cell_type": "code",
   "execution_count": 7,
   "metadata": {},
   "outputs": [
    {
     "data": {
      "text/plain": [
       "4.0"
      ]
     },
     "execution_count": 7,
     "metadata": {},
     "output_type": "execute_result"
    }
   ],
   "source": [
    "import math\n",
    "\n",
    "def calculateSquareroot(number):\n",
    "    return math.sqrt(number)\n",
    "\n",
    "calculateSquareroot(16)"
   ]
  },
  {
   "cell_type": "code",
   "execution_count": 5,
   "metadata": {},
   "outputs": [
    {
     "data": {
      "text/plain": [
       "4"
      ]
     },
     "execution_count": 5,
     "metadata": {},
     "output_type": "execute_result"
    }
   ],
   "source": [
    "def calculate_square_root(number):\n",
    "    if number < 0:\n",
    "        raise ValueError(\"Cannot calculate the square root of a negative number.\")\n",
    "    \n",
    "    if number == 0:\n",
    "        return 0\n",
    "    \n",
    "    guess = number / 2\n",
    "    \n",
    "    while True:\n",
    "        new_guess = (guess + number / guess) / 2\n",
    "        \n",
    "        if abs(new_guess - guess) < 0.00001:\n",
    "            return int(new_guess)\n",
    "        \n",
    "        guess = new_guess\n",
    "\n",
    "calculate_square_root(16)"
   ]
  },
  {
   "cell_type": "markdown",
   "metadata": {},
   "source": [
    "29. Write a Python program to check if a given string is a valid palindrome ignoring non-alphanumeric characters."
   ]
  },
  {
   "cell_type": "code",
   "execution_count": 21,
   "metadata": {},
   "outputs": [
    {
     "data": {
      "text/plain": [
       "False"
      ]
     },
     "execution_count": 21,
     "metadata": {},
     "output_type": "execute_result"
    }
   ],
   "source": [
    "def checkPalindrome(s):\n",
    "    non_alphanumeric_characters = ['!', '\"', '#', '$', '%', '&', \"'\", '(', ')', '*', \n",
    "                                   '+', ',', '-', '.', '/', ':', ';', '<', '=', '>', '?', '@', \n",
    "                                   '[', '\\\\', ']', '^', '_', '`', '{', '|', '}', '~']\n",
    "\n",
    "    for i in s:\n",
    "        if i in non_alphanumeric_characters:\n",
    "            s = s.replace(i, '')\n",
    "\n",
    "    s=''.join(s.split(' '))\n",
    "\n",
    "    if s.lower() == s.lower()[::-1]:\n",
    "        return True\n",
    "    else:\n",
    "        return False\n",
    "\n",
    "\n",
    "s = 'Hello, how are you?'\n",
    "checkPalindrome(s)"
   ]
  },
  {
   "cell_type": "code",
   "execution_count": 22,
   "metadata": {},
   "outputs": [
    {
     "data": {
      "text/plain": [
       "True"
      ]
     },
     "execution_count": 22,
     "metadata": {},
     "output_type": "execute_result"
    }
   ],
   "source": [
    "s = 'Malayalam'\n",
    "checkPalindrome(s)"
   ]
  },
  {
   "cell_type": "code",
   "execution_count": 23,
   "metadata": {},
   "outputs": [
    {
     "data": {
      "text/plain": [
       "True"
      ]
     },
     "execution_count": 23,
     "metadata": {},
     "output_type": "execute_result"
    }
   ],
   "source": [
    "s = \"Madam, in Eden I'm Adam\"\n",
    "checkPalindrome(s)"
   ]
  },
  {
   "cell_type": "markdown",
   "metadata": {},
   "source": [
    "30. Implement a function to find the minimum element in a rotated sorted list."
   ]
  },
  {
   "cell_type": "code",
   "execution_count": 25,
   "metadata": {},
   "outputs": [
    {
     "data": {
      "text/plain": [
       "0"
      ]
     },
     "execution_count": 25,
     "metadata": {},
     "output_type": "execute_result"
    }
   ],
   "source": [
    "def findMinimum(nums):\n",
    "    left = 0\n",
    "    right = len(nums) - 1\n",
    "\n",
    "    while left < right:\n",
    "        mid = (left + right) // 2\n",
    "\n",
    "        if nums[mid] > nums[right]:\n",
    "            left = mid + 1\n",
    "        elif nums[mid] < nums[right]:\n",
    "            right = mid \n",
    "        #If mid = right\n",
    "        else:\n",
    "            right -= 1\n",
    "\n",
    "    return nums[left]\n",
    "\n",
    "\n",
    "nums = [4, 5, 6, 7, 0, 1, 2]\n",
    "findMinimum(nums)"
   ]
  },
  {
   "cell_type": "markdown",
   "metadata": {},
   "source": [
    "31. Write a program to find the sum of all even numbers in a list."
   ]
  },
  {
   "cell_type": "code",
   "execution_count": 29,
   "metadata": {},
   "outputs": [
    {
     "data": {
      "text/plain": [
       "20"
      ]
     },
     "execution_count": 29,
     "metadata": {},
     "output_type": "execute_result"
    }
   ],
   "source": [
    "def sumEven(nums):\n",
    "    res = 0\n",
    "\n",
    "    for i in nums:\n",
    "        if i % 2 == 0 and i > 0:\n",
    "            res += i \n",
    "\n",
    "    return res \n",
    "\n",
    "nums = [1,2,3,4,5,6,7,8,9]\n",
    "sumEven(nums)"
   ]
  },
  {
   "cell_type": "markdown",
   "metadata": {},
   "source": [
    "32. Implement a function to calculate the power of a number using recursion."
   ]
  },
  {
   "cell_type": "code",
   "execution_count": 31,
   "metadata": {},
   "outputs": [
    {
     "data": {
      "text/plain": [
       "9"
      ]
     },
     "execution_count": 31,
     "metadata": {},
     "output_type": "execute_result"
    }
   ],
   "source": [
    "def findPower(num, pow):\n",
    "    if pow == 0:\n",
    "        return 1\n",
    "    \n",
    "    return num * findPower(num, pow-1)\n",
    "\n",
    "findPower(3, 2)"
   ]
  },
  {
   "cell_type": "markdown",
   "metadata": {},
   "source": [
    "33. Write a Python program to remove duplicates from a list while preserving the order."
   ]
  },
  {
   "cell_type": "code",
   "execution_count": 41,
   "metadata": {},
   "outputs": [
    {
     "data": {
      "text/plain": [
       "[3, 7, 1, 2, 4]"
      ]
     },
     "execution_count": 41,
     "metadata": {},
     "output_type": "execute_result"
    }
   ],
   "source": [
    "def findDuplicates(nums):\n",
    "    seen = set()\n",
    "    res = []\n",
    "\n",
    "    for i in nums:\n",
    "        if i not in seen:\n",
    "            seen.add(i)\n",
    "            res.append(i)\n",
    "\n",
    "    return res\n",
    "\n",
    "nums = [3,3,7,1,1,2,4,4]\n",
    "findDuplicates(nums)"
   ]
  },
  {
   "cell_type": "markdown",
   "metadata": {},
   "source": [
    "34. Implement a function to find the longest common prefix among a list of strings."
   ]
  },
  {
   "cell_type": "code",
   "execution_count": 45,
   "metadata": {},
   "outputs": [
    {
     "data": {
      "text/plain": [
       "'fl'"
      ]
     },
     "execution_count": 45,
     "metadata": {},
     "output_type": "execute_result"
    }
   ],
   "source": [
    "def checkPrefix(strs):\n",
    "    res = strs[0]\n",
    "    count = 1\n",
    "\n",
    "    while count < len(strs) and len(res) > 0:\n",
    "        #If its the same prefix then we move on to the next\n",
    "        if strs[count].startswith(res):\n",
    "            count += 1\n",
    "        #If the prefix is not the same then we reomve last char from res\n",
    "        else:\n",
    "            res = res[:-1]\n",
    "\n",
    "    return res\n",
    "\n",
    "strs = [\"flower\",\"flow\",\"flight\"]\n",
    "checkPrefix(strs)"
   ]
  },
  {
   "cell_type": "code",
   "execution_count": 53,
   "metadata": {},
   "outputs": [
    {
     "data": {
      "text/plain": [
       "'fl'"
      ]
     },
     "execution_count": 53,
     "metadata": {},
     "output_type": "execute_result"
    }
   ],
   "source": [
    "def checkPrefixAlt(strs):\n",
    "    res =''\n",
    "\n",
    "    strs.sort()\n",
    "    first = strs[0]\n",
    "    last = strs[-1]\n",
    "\n",
    "    for i in range(min(len(first), len(last))):\n",
    "        if first[i] != last[i]:\n",
    "            return res \n",
    "        res += first[i]\n",
    "\n",
    "strs = [\"flower\",\"flow\",\"flight\"]\n",
    "checkPrefixAlt(strs)"
   ]
  },
  {
   "cell_type": "markdown",
   "metadata": {},
   "source": [
    "35. Write a program to check if a given number is a perfect square."
   ]
  },
  {
   "cell_type": "code",
   "execution_count": 55,
   "metadata": {},
   "outputs": [
    {
     "data": {
      "text/plain": [
       "6"
      ]
     },
     "execution_count": 55,
     "metadata": {},
     "output_type": "execute_result"
    }
   ],
   "source": [
    "def checkPerfectSquare(num):\n",
    "    if num < 0:\n",
    "        raise ValueError(\"Cannot calculate the square root of a negative number.\")\n",
    "    \n",
    "    if num == 0:\n",
    "        return 0\n",
    "    \n",
    "    guess = num / 2 \n",
    "\n",
    "    while True:\n",
    "        new_guess = (guess + num / guess) / 2 \n",
    "\n",
    "        if abs(guess - new_guess) < 0.0001:\n",
    "            return int(new_guess)\n",
    "        \n",
    "        guess = new_guess\n",
    "\n",
    "checkPerfectSquare(36)"
   ]
  },
  {
   "cell_type": "code",
   "execution_count": 56,
   "metadata": {},
   "outputs": [
    {
     "data": {
      "text/plain": [
       "7"
      ]
     },
     "execution_count": 56,
     "metadata": {},
     "output_type": "execute_result"
    }
   ],
   "source": [
    "checkPerfectSquare(49)"
   ]
  },
  {
   "cell_type": "markdown",
   "metadata": {},
   "source": [
    "36. Implement a function to calculate the product of all elements in a list."
   ]
  },
  {
   "cell_type": "code",
   "execution_count": 58,
   "metadata": {},
   "outputs": [
    {
     "data": {
      "text/plain": [
       "384"
      ]
     },
     "execution_count": 58,
     "metadata": {},
     "output_type": "execute_result"
    }
   ],
   "source": [
    "def findProduct(nums):\n",
    "    res = 1\n",
    "\n",
    "    for i in nums: \n",
    "        res *= i\n",
    "\n",
    "    return res\n",
    "\n",
    "nums = [2,4,6,8]\n",
    "findProduct(nums)"
   ]
  },
  {
   "cell_type": "code",
   "execution_count": 59,
   "metadata": {},
   "outputs": [
    {
     "data": {
      "text/plain": [
       "0"
      ]
     },
     "execution_count": 59,
     "metadata": {},
     "output_type": "execute_result"
    }
   ],
   "source": [
    "nums = [2,4,6,8,0]\n",
    "findProduct(nums)"
   ]
  },
  {
   "cell_type": "markdown",
   "metadata": {},
   "source": [
    "37. Write a Python program to reverse the order of words in a sentence while preserving the word order."
   ]
  },
  {
   "cell_type": "code",
   "execution_count": 65,
   "metadata": {},
   "outputs": [
    {
     "data": {
      "text/plain": [
       "',olleH woh era ?uoy'"
      ]
     },
     "execution_count": 65,
     "metadata": {},
     "output_type": "execute_result"
    }
   ],
   "source": [
    "def reverseOrder(strs):\n",
    "    res = []\n",
    "\n",
    "    for i in strs.split():\n",
    "        res.append(i[::-1])\n",
    "\n",
    "    res = ' '.join(res)\n",
    "    return res\n",
    "\n",
    "\n",
    "strs = 'Hello, how are you?'\n",
    "reverseOrder(strs)"
   ]
  },
  {
   "cell_type": "markdown",
   "metadata": {},
   "source": [
    "38. Implement a function to find the missing number in a given list of consecutive numbers."
   ]
  },
  {
   "cell_type": "code",
   "execution_count": 67,
   "metadata": {},
   "outputs": [
    {
     "data": {
      "text/plain": [
       "5"
      ]
     },
     "execution_count": 67,
     "metadata": {},
     "output_type": "execute_result"
    }
   ],
   "source": [
    "def checkMissing(nums):\n",
    "    for i in nums:\n",
    "        if i + 1 not in nums:\n",
    "            return i + 1\n",
    "        \n",
    "nums = [1,2,3,4,6,7,8,9]\n",
    "checkMissing(nums)"
   ]
  },
  {
   "cell_type": "markdown",
   "metadata": {},
   "source": [
    "39. Write a program to find the sum of digits of a given number."
   ]
  },
  {
   "cell_type": "code",
   "execution_count": 70,
   "metadata": {},
   "outputs": [
    {
     "data": {
      "text/plain": [
       "45"
      ]
     },
     "execution_count": 70,
     "metadata": {},
     "output_type": "execute_result"
    }
   ],
   "source": [
    "def findSum(digits):\n",
    "    res = 0\n",
    "\n",
    "    for i in str(digits):\n",
    "        res += int(i)\n",
    "\n",
    "    return res\n",
    "\n",
    "digits = 987654321 \n",
    "findSum(digits)"
   ]
  },
  {
   "cell_type": "markdown",
   "metadata": {},
   "source": [
    "40. Implement a function to check if a given string is a valid palindrome considering case sensitivity."
   ]
  },
  {
   "cell_type": "code",
   "execution_count": 72,
   "metadata": {},
   "outputs": [
    {
     "name": "stdout",
     "output_type": "stream",
     "text": [
      "Yes\n"
     ]
    }
   ],
   "source": [
    "s = 'malayalam'\n",
    "\n",
    "if s == s[::-1]:\n",
    "    print('Yes')\n",
    "else:\n",
    "    print('No')"
   ]
  },
  {
   "cell_type": "code",
   "execution_count": 73,
   "metadata": {},
   "outputs": [
    {
     "data": {
      "text/plain": [
       "True"
      ]
     },
     "execution_count": 73,
     "metadata": {},
     "output_type": "execute_result"
    }
   ],
   "source": [
    "def checkIfPalindrome(s):\n",
    "    if s == s[::-1]:\n",
    "        return True\n",
    "    else:\n",
    "        return False\n",
    "    \n",
    "s = 'malayalam'\n",
    "checkIfPalindrome(s)"
   ]
  },
  {
   "cell_type": "code",
   "execution_count": 74,
   "metadata": {},
   "outputs": [
    {
     "data": {
      "text/plain": [
       "False"
      ]
     },
     "execution_count": 74,
     "metadata": {},
     "output_type": "execute_result"
    }
   ],
   "source": [
    "s = 'Malayalam'\n",
    "checkIfPalindrome(s)"
   ]
  },
  {
   "cell_type": "markdown",
   "metadata": {},
   "source": [
    "41. Write a Python program to find the smallest missing positive integer in a list."
   ]
  },
  {
   "cell_type": "code",
   "execution_count": 81,
   "metadata": {},
   "outputs": [
    {
     "data": {
      "text/plain": [
       "2"
      ]
     },
     "execution_count": 81,
     "metadata": {},
     "output_type": "execute_result"
    }
   ],
   "source": [
    "def checkPosMissing(nums):\n",
    "    nums_set = set(nums)\n",
    "    smallestPosInt = 1\n",
    "\n",
    "    while smallestPosInt in nums_set:\n",
    "        smallestPosInt += 1\n",
    "\n",
    "    return smallestPosInt\n",
    "\n",
    "nums = [3, 4, -1, 1]\n",
    "checkPosMissing(nums)"
   ]
  },
  {
   "cell_type": "code",
   "execution_count": 82,
   "metadata": {},
   "outputs": [
    {
     "data": {
      "text/plain": [
       "4"
      ]
     },
     "execution_count": 82,
     "metadata": {},
     "output_type": "execute_result"
    }
   ],
   "source": [
    "nums = [3, 3, 2, 2, 1, 1]\n",
    "checkPosMissing(nums)"
   ]
  },
  {
   "cell_type": "markdown",
   "metadata": {},
   "source": [
    "42. Implement a function to find the longest palindrome substring in a given string."
   ]
  },
  {
   "cell_type": "code",
   "execution_count": 85,
   "metadata": {},
   "outputs": [
    {
     "data": {
      "text/plain": [
       "'bab'"
      ]
     },
     "execution_count": 85,
     "metadata": {},
     "output_type": "execute_result"
    }
   ],
   "source": [
    "def longestPalindrome(s):\n",
    "    res = \"\"\n",
    "    resLen = 0\n",
    "\n",
    "    # We increment over the string and move outwards from it by checking if both left and right are same\n",
    "    for i in range(len(s)):\n",
    "        #Odd length\n",
    "        l, r = i, i\n",
    "\n",
    "        #If both left and right are same we update\n",
    "        while l >= 0 and r < len(s) and s[l] == s[r]:\n",
    "            if (r - l + 1) > resLen:\n",
    "                res = s[l:r+1]\n",
    "                resLen = r - l + 1\n",
    "            \n",
    "            l -= 1\n",
    "            r += 1\n",
    "\n",
    "        # Even\n",
    "        l, r = i, i + 1\n",
    "\n",
    "        while l >= 0 and r < len(s) and s[l] == s[r]:\n",
    "            if (r - l + 1) > resLen:\n",
    "                res = s[l:r+1]\n",
    "                resLen = r - l + 1\n",
    "            l -= 1\n",
    "            r += 1\n",
    "\n",
    "    return res\n",
    "\n",
    "\n",
    "s = \"babad\"\n",
    "longestPalindrome(s)"
   ]
  },
  {
   "cell_type": "code",
   "execution_count": 86,
   "metadata": {},
   "outputs": [
    {
     "data": {
      "text/plain": [
       "'bb'"
      ]
     },
     "execution_count": 86,
     "metadata": {},
     "output_type": "execute_result"
    }
   ],
   "source": [
    "s = \"cbbd\"\n",
    "longestPalindrome(s)"
   ]
  },
  {
   "cell_type": "markdown",
   "metadata": {},
   "source": [
    "43. Write a program to find the number of occurrences of a given element in a list."
   ]
  },
  {
   "cell_type": "code",
   "execution_count": 88,
   "metadata": {},
   "outputs": [
    {
     "data": {
      "text/plain": [
       "2"
      ]
     },
     "execution_count": 88,
     "metadata": {},
     "output_type": "execute_result"
    }
   ],
   "source": [
    "def findNumber(nums, find):\n",
    "    count = 0\n",
    "\n",
    "    for i in nums:\n",
    "        if i == find:\n",
    "            count += 1\n",
    "\n",
    "    return count\n",
    "\n",
    "nums = [1,2,3,4,1]\n",
    "findNumber(nums, 1)"
   ]
  },
  {
   "cell_type": "markdown",
   "metadata": {},
   "source": [
    "44. Implement a function to check if a given number is a perfect number."
   ]
  },
  {
   "cell_type": "code",
   "execution_count": 11,
   "metadata": {},
   "outputs": [
    {
     "data": {
      "text/plain": [
       "True"
      ]
     },
     "execution_count": 11,
     "metadata": {},
     "output_type": "execute_result"
    }
   ],
   "source": [
    "def findPerfectNumber(num):\n",
    "    factor_sum = 0\n",
    "    divisor = 1\n",
    "\n",
    "    while divisor < num:\n",
    "        if num % divisor == 0:\n",
    "            factor_sum += divisor\n",
    "            divisor += 1\n",
    "        else:\n",
    "            divisor += 1\n",
    "\n",
    "    return factor_sum == num\n",
    "\n",
    "num = 28\n",
    "findPerfectNumber(num)"
   ]
  },
  {
   "cell_type": "code",
   "execution_count": 13,
   "metadata": {},
   "outputs": [
    {
     "data": {
      "text/plain": [
       "True"
      ]
     },
     "execution_count": 13,
     "metadata": {},
     "output_type": "execute_result"
    }
   ],
   "source": [
    "def checkPerfectNumberAlt(num):\n",
    "        if num <= 1:\n",
    "            return False\n",
    "\n",
    "        factor_sum = 1\n",
    "        divisor = 2\n",
    "\n",
    "        while divisor * divisor <= num:\n",
    "            if num % divisor == 0:\n",
    "                factor_sum += divisor\n",
    "                if num // divisor != divisor:\n",
    "                    factor_sum += num // divisor\n",
    "            divisor += 1\n",
    "\n",
    "        return factor_sum == num\n",
    "\n",
    "num = 28\n",
    "checkPerfectNumberAlt(num)"
   ]
  },
  {
   "cell_type": "markdown",
   "metadata": {},
   "source": [
    "45. Write a Python program to remove all duplicates from a string."
   ]
  },
  {
   "cell_type": "code",
   "execution_count": 17,
   "metadata": {},
   "outputs": [
    {
     "data": {
      "text/plain": [
       "'abdc'"
      ]
     },
     "execution_count": 17,
     "metadata": {},
     "output_type": "execute_result"
    }
   ],
   "source": [
    "def removeDuplicatesStr(strs):\n",
    "    res = ''\n",
    "    f_set = set()\n",
    "\n",
    "    for i in strs:\n",
    "        if i not in f_set:\n",
    "            f_set.add(i)\n",
    "            res += i \n",
    "\n",
    "    return res\n",
    "\n",
    "strs = 'ababdcc'\n",
    "removeDuplicatesStr(strs)"
   ]
  },
  {
   "cell_type": "markdown",
   "metadata": {},
   "source": [
    "46. Implement a function to find the first missing positive\n"
   ]
  },
  {
   "cell_type": "code",
   "execution_count": 18,
   "metadata": {},
   "outputs": [
    {
     "data": {
      "text/plain": [
       "6"
      ]
     },
     "execution_count": 18,
     "metadata": {},
     "output_type": "execute_result"
    }
   ],
   "source": [
    "def firstMissingPositive(nums):\n",
    "    firstPositive = 1\n",
    "    nums_set = set(nums)\n",
    "\n",
    "    while firstPositive in nums_set:\n",
    "        firstPositive += 1\n",
    "    \n",
    "    return firstPositive\n",
    "\n",
    "nums = [3, 4, -1, 1, 2, 5]\n",
    "firstMissingPositive(nums)"
   ]
  },
  {
   "cell_type": "code",
   "execution_count": null,
   "metadata": {},
   "outputs": [],
   "source": []
  }
 ],
 "metadata": {
  "kernelspec": {
   "display_name": "Python 3",
   "language": "python",
   "name": "python3"
  },
  "language_info": {
   "codemirror_mode": {
    "name": "ipython",
    "version": 3
   },
   "file_extension": ".py",
   "mimetype": "text/x-python",
   "name": "python",
   "nbconvert_exporter": "python",
   "pygments_lexer": "ipython3",
   "version": "3.8.16"
  },
  "orig_nbformat": 4
 },
 "nbformat": 4,
 "nbformat_minor": 2
}
