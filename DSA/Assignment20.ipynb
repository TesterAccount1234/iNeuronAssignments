{
 "cells": [
  {
   "cell_type": "code",
   "execution_count": null,
   "metadata": {},
   "outputs": [],
   "source": []
  },
  {
   "attachments": {},
   "cell_type": "markdown",
   "metadata": {},
   "source": [
    "<aside>\n",
    "💡 Question-1\n",
    "\n",
    "Given a binary tree, your task is to find subtree with maximum sum in tree.\n",
    "\n",
    "Examples:\n",
    "\n",
    "Input1 :       \n",
    "\n",
    "       1\n",
    "\n",
    "     /   \\\n",
    "\n",
    "   2      3\n",
    "\n",
    "  / \\    / \\\n",
    "\n",
    "4   5  6   7\n",
    "\n",
    "Output1 : 28\n",
    "\n",
    "As all the tree elements are positive, the largest subtree sum is equal to sum of all tree elements.\n",
    "\n",
    "Input2 :\n",
    "\n",
    "       1\n",
    "\n",
    "     /    \\\n",
    "\n",
    "  -2      3\n",
    "\n",
    "  / \\    /  \\\n",
    "\n",
    "4   5  -6   2\n",
    "\n",
    "Output2 : 7\n",
    "\n",
    "Subtree with largest sum is :\n",
    "\n",
    " -2\n",
    "\n",
    " / \\\n",
    "\n",
    "4   5\n",
    "\n",
    "Also, entire tree sum is also 7.\n",
    "\n",
    "</aside>"
   ]
  },
  {
   "cell_type": "code",
   "execution_count": 53,
   "metadata": {},
   "outputs": [],
   "source": [
    "def maxSum(node):\n",
    "    if node is None:\n",
    "        return 0\n",
    "    \n",
    "    max_sum = float('-inf')\n",
    "\n",
    "    left = maxSum(node.left) \n",
    "    right = maxSum(node.right) \n",
    "\n",
    "    combined = left + right + node.data\n",
    "\n",
    "    if combined > max_sum:\n",
    "        return combined\n",
    "    else:\n",
    "        return max_sum"
   ]
  },
  {
   "cell_type": "code",
   "execution_count": 57,
   "metadata": {},
   "outputs": [
    {
     "data": {
      "text/plain": [
       "28"
      ]
     },
     "execution_count": 57,
     "metadata": {},
     "output_type": "execute_result"
    }
   ],
   "source": [
    "class TreeNode:\n",
    "    def __init__(self, data):\n",
    "        self.data = data\n",
    "        self.left = None\n",
    "        self.right = None \n",
    "\n",
    "\n",
    "root = TreeNode(1)\n",
    "\n",
    "root.left = TreeNode(2)\n",
    "root.right = TreeNode(3)\n",
    "\n",
    "root.left.left = TreeNode(4)\n",
    "root.left.right = TreeNode(5)\n",
    "root.right.left = TreeNode(6)\n",
    "root.right.right = TreeNode(7)\n",
    "\n",
    "maxSum(root)"
   ]
  },
  {
   "cell_type": "code",
   "execution_count": 58,
   "metadata": {},
   "outputs": [
    {
     "data": {
      "text/plain": [
       "7"
      ]
     },
     "execution_count": 58,
     "metadata": {},
     "output_type": "execute_result"
    }
   ],
   "source": [
    "class TreeNode:\n",
    "    def __init__(self, data):\n",
    "        self.data = data\n",
    "        self.left = None\n",
    "        self.right = None \n",
    "\n",
    "\n",
    "root = TreeNode(1)\n",
    "\n",
    "root.left = TreeNode(-2)\n",
    "root.right = TreeNode(3)\n",
    "\n",
    "root.left.left = TreeNode(4)\n",
    "root.left.right = TreeNode(5)\n",
    "root.right.left = TreeNode(-6)\n",
    "root.right.right = TreeNode(2)\n",
    "\n",
    "maxSum(root)"
   ]
  },
  {
   "attachments": {},
   "cell_type": "markdown",
   "metadata": {},
   "source": [
    "<aside>\n",
    "💡 Question-2\n",
    "\n",
    "Construct the BST (Binary Search Tree) from its given level order traversal.\n",
    "\n",
    "Example:\n",
    "\n",
    "Input: arr[] = {7, 4, 12, 3, 6, 8, 1, 5, 10}\n",
    "\n",
    "Output: BST:\n",
    "\n",
    "            7\n",
    "\n",
    "         /    \\\n",
    "\n",
    "       4     12\n",
    "\n",
    "     /  \\     /\n",
    "\n",
    "    3   6  8\n",
    "\n",
    "   /    /     \\\n",
    "\n",
    " 1    5      10\n",
    "\n",
    "</aside>"
   ]
  },
  {
   "cell_type": "code",
   "execution_count": 66,
   "metadata": {},
   "outputs": [
    {
     "name": "stdout",
     "output_type": "stream",
     "text": [
      "7\n",
      "4\n",
      "3\n",
      "1\n",
      "6\n",
      "5\n",
      "12\n",
      "8\n",
      "10\n"
     ]
    }
   ],
   "source": [
    "class Node:\n",
    "    def __init__(self, data):\n",
    "        self.data = data\n",
    "        self.left = None\n",
    "        self.right = None\n",
    "\n",
    "def constructBST(arr):\n",
    "    if not arr:\n",
    "        return None \n",
    "    \n",
    "    root = None\n",
    "    \n",
    "    for num in arr:\n",
    "        new_node = Node(num)\n",
    "\n",
    "        if root is None:\n",
    "            root = new_node\n",
    "        else:\n",
    "            curr = root \n",
    "\n",
    "            while True:\n",
    "                #If current number is less than root\n",
    "                if num < curr.data:\n",
    "                    if curr.left is None:\n",
    "                        curr.left = new_node \n",
    "                        break \n",
    "                    else:\n",
    "                        curr = curr.left \n",
    "                else:\n",
    "                    if curr.right is None:\n",
    "                        curr.right = new_node\n",
    "                        break\n",
    "                    else:\n",
    "                        curr = curr.right\n",
    "\n",
    "    return root\n",
    "\n",
    "\n",
    "arr = [7, 4, 12, 3, 6, 8, 1, 5, 10]\n",
    "root = constructBST(arr)\n",
    "\n",
    "def preorder_traversal(root):\n",
    "    if root is None:\n",
    "        return \n",
    "    \n",
    "    print(root.data)\n",
    "    preorder_traversal(root.left)\n",
    "    preorder_traversal(root.right)\n",
    "\n",
    "preorder_traversal(root)"
   ]
  },
  {
   "attachments": {},
   "cell_type": "markdown",
   "metadata": {},
   "source": [
    "<aside>\n",
    "💡 Question-3\n",
    "\n",
    "Given an array of size n. The problem is to check whether the given array can represent the level order traversal of a Binary Search Tree or not.\n",
    "\n",
    "Examples:\n",
    "\n",
    "Input1 : arr[] = {7, 4, 12, 3, 6, 8, 1, 5, 10}\n",
    "\n",
    "Output1 : Yes\n",
    "\n",
    "For the given arr[], the Binary Search Tree is:\n",
    "\n",
    "            7\n",
    "\n",
    "         /    \\\n",
    "\n",
    "       4     12\n",
    "\n",
    "     /  \\     /\n",
    "\n",
    "    3   6  8\n",
    "\n",
    "   /    /     \\\n",
    "\n",
    " 1    5      10\n",
    "\n",
    "Input2 : arr[] = {11, 6, 13, 5, 12, 10}\n",
    "\n",
    "Output2 : No\n",
    "\n",
    "The given arr[] does not represent the level order traversal of a BST.\n",
    "\n",
    "</aside>"
   ]
  },
  {
   "cell_type": "code",
   "execution_count": 100,
   "metadata": {},
   "outputs": [],
   "source": [
    "def levelOrderBST(arr):\n",
    "    if arr is None:\n",
    "        return True \n",
    "    \n",
    "    n = len(arr)\n",
    "\n",
    "    #Set boundaries\n",
    "    low = float('-inf')\n",
    "    high = float('inf')\n",
    "\n",
    "    for i in range(1, n):\n",
    "        #Check if i lies within boundary\n",
    "        if arr[i] < low and arr[i] > high:\n",
    "            return False\n",
    "        \n",
    "        #If curr element is lesser then previous, then it belongs in LST hence changing high to previous\n",
    "        if arr[i] < arr[i-1]:\n",
    "            high = arr[i-1]\n",
    "        #RST, changing low\n",
    "        else:\n",
    "            low= arr[i-1]\n",
    "        \n",
    "    return True\n"
   ]
  },
  {
   "cell_type": "code",
   "execution_count": 101,
   "metadata": {},
   "outputs": [
    {
     "data": {
      "text/plain": [
       "True"
      ]
     },
     "execution_count": 101,
     "metadata": {},
     "output_type": "execute_result"
    }
   ],
   "source": [
    "arr = [7, 4, 12, 3, 6, 8, 1, 5, 10]\n",
    "levelOrderBST(arr)"
   ]
  },
  {
   "cell_type": "code",
   "execution_count": 102,
   "metadata": {},
   "outputs": [
    {
     "data": {
      "text/plain": [
       "True"
      ]
     },
     "execution_count": 102,
     "metadata": {},
     "output_type": "execute_result"
    }
   ],
   "source": [
    "arr2 = [11, 6, 13, 5, 12, 10]\n",
    "levelOrderBST(arr)"
   ]
  },
  {
   "cell_type": "code",
   "execution_count": 97,
   "metadata": {},
   "outputs": [],
   "source": [
    "class Node:\n",
    "    def __init__(self, data):\n",
    "        self.data = data\n",
    "        self.left = None\n",
    "        self.right = None\n",
    "\n",
    "def constructBST(arr):\n",
    "    if not arr:\n",
    "        return None \n",
    "    \n",
    "    root = None\n",
    "    \n",
    "    for num in arr:\n",
    "        new_node = Node(num)\n",
    "\n",
    "        if root is None:\n",
    "            root = new_node\n",
    "        else:\n",
    "            curr = root \n",
    "\n",
    "            while True:\n",
    "                #If current number is less than root\n",
    "                if num < curr.data:\n",
    "                    if curr.left is None:\n",
    "                        curr.left = new_node \n",
    "                        break \n",
    "                    else:\n",
    "                        curr = curr.left \n",
    "                else:\n",
    "                    if curr.right is None:\n",
    "                        curr.right = new_node\n",
    "                        break\n",
    "                    else:\n",
    "                        curr = curr.right\n",
    "\n",
    "    return root\n",
    "\n",
    "def levelOrderBST(root, low, high):\n",
    "    if root is None:\n",
    "        return True \n",
    "    \n",
    "    \n",
    "    if not (root.data < high and root.data > low):\n",
    "        return False\n",
    "    \n",
    "    return levelOrderBST(root.left, low, root.data) and levelOrderBST(root.right, root.data, high)"
   ]
  },
  {
   "cell_type": "code",
   "execution_count": 98,
   "metadata": {},
   "outputs": [
    {
     "data": {
      "text/plain": [
       "True"
      ]
     },
     "execution_count": 98,
     "metadata": {},
     "output_type": "execute_result"
    }
   ],
   "source": [
    "arr = [7, 4, 12, 3, 6, 8, 1, 5, 10]\n",
    "root = constructBST(arr)\n",
    "levelOrderBST(root, float('-inf'), float('inf'))"
   ]
  },
  {
   "cell_type": "code",
   "execution_count": 99,
   "metadata": {},
   "outputs": [
    {
     "data": {
      "text/plain": [
       "True"
      ]
     },
     "execution_count": 99,
     "metadata": {},
     "output_type": "execute_result"
    }
   ],
   "source": [
    "arr =  [11, 6, 13, 5, 12, 10]\n",
    "root = constructBST(arr)\n",
    "levelOrderBST(root, float('-inf'), float('inf'))"
   ]
  },
  {
   "cell_type": "code",
   "execution_count": null,
   "metadata": {},
   "outputs": [],
   "source": []
  }
 ],
 "metadata": {
  "kernelspec": {
   "display_name": "Python 3",
   "language": "python",
   "name": "python3"
  },
  "language_info": {
   "codemirror_mode": {
    "name": "ipython",
    "version": 3
   },
   "file_extension": ".py",
   "mimetype": "text/x-python",
   "name": "python",
   "nbconvert_exporter": "python",
   "pygments_lexer": "ipython3",
   "version": "3.8.16"
  },
  "orig_nbformat": 4
 },
 "nbformat": 4,
 "nbformat_minor": 2
}
