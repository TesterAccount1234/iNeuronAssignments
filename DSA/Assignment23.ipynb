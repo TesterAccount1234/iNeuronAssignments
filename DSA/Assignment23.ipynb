{
 "cells": [
  {
   "cell_type": "code",
   "execution_count": null,
   "metadata": {},
   "outputs": [],
   "source": []
  },
  {
   "cell_type": "markdown",
   "metadata": {},
   "source": [
    "<aside>\n",
    "💡 Question-1:\n",
    "\n",
    "Given preorder of a binary tree, calculate its **[depth(or height)](https://www.geeksforgeeks.org/write-a-c-program-to-find-the-maximum-depth-or-height-of-a-tree/)** [starting from depth 0]. The preorder is given as a string with two possible characters.\n",
    "\n",
    "1. ‘l’ denotes the leaf\n",
    "2. ‘n’ denotes internal node\n",
    "\n",
    "The given tree can be seen as a full binary tree where every node has 0 or two children. The two children of a node can ‘n’ or ‘l’ or mix of both.\n",
    "\n",
    "**Examples :**\n",
    "\n",
    "Input  : nlnll\n",
    "Output : 2\n",
    "Explanation :\n",
    "\n",
    "</aside>\n",
    "\n",
    "Input  : nlnnlll\n",
    "Output : 3"
   ]
  },
  {
   "cell_type": "code",
   "execution_count": 15,
   "metadata": {},
   "outputs": [
    {
     "data": {
      "text/plain": [
       "2"
      ]
     },
     "execution_count": 15,
     "metadata": {},
     "output_type": "execute_result"
    }
   ],
   "source": [
    "class TreeNode:\n",
    "    def __init__(self, val):\n",
    "        self.val = val\n",
    "        self.left = None\n",
    "        self.right = None\n",
    "\n",
    "def findLevel(node):\n",
    "    if node is None:\n",
    "        return -1\n",
    "\n",
    "    max_lvl = 1 + max(findLevel(node.left), findLevel(node.right))\n",
    "    \n",
    "    return max_lvl\n",
    "\n",
    "root = TreeNode('n')\n",
    "\n",
    "root.left = TreeNode('l')\n",
    "root.right = TreeNode('n')\n",
    "root.right.left = TreeNode('l')\n",
    "root.right.right = TreeNode('l')\n",
    "\n",
    "findLevel(root)"
   ]
  },
  {
   "cell_type": "code",
   "execution_count": 16,
   "metadata": {},
   "outputs": [
    {
     "data": {
      "text/plain": [
       "3"
      ]
     },
     "execution_count": 16,
     "metadata": {},
     "output_type": "execute_result"
    }
   ],
   "source": [
    "root = TreeNode('n')\n",
    "\n",
    "root.left = TreeNode('l')\n",
    "root.right = TreeNode('n')\n",
    "root.right.left = TreeNode('n')\n",
    "root.right.right = TreeNode('l')\n",
    "root.right.left.left = TreeNode('l')\n",
    "root.right.left.right = TreeNode('l')\n",
    "\n",
    "findLevel(root)"
   ]
  },
  {
   "cell_type": "markdown",
   "metadata": {},
   "source": [
    "<aside>\n",
    "💡 Question-2:\n",
    "\n",
    "Given a Binary tree, the task is to print the **left view** of the Binary Tree. The left view of a Binary Tree is a set of leftmost nodes for every level.\n",
    "\n",
    "**Examples:**\n",
    "\n",
    "***Input:***\n",
    "\n",
    "            4\n",
    "\n",
    "          /   \\\n",
    "\n",
    "        5     2\n",
    "\n",
    "             /   \\\n",
    "\n",
    "            3     1\n",
    "\n",
    "           /  \\\n",
    "\n",
    "          6    7\n",
    "\n",
    "***Output:** 4 5 3 6*\n",
    "\n",
    "**Explanation:**\n",
    "\n",
    "</aside>\n",
    "\n",
    "***Input:***\n",
    "\n",
    "                    1\n",
    "\n",
    "                  /   \\\n",
    "\n",
    "                2       3\n",
    "\n",
    "                 \\\n",
    "\n",
    "                   4\n",
    "\n",
    "                     \\\n",
    "\n",
    "                        5\n",
    "\n",
    "                           \\\n",
    "\n",
    "                             6\n",
    "\n",
    "**Output:** 1 2 4 5 6"
   ]
  },
  {
   "cell_type": "code",
   "execution_count": 17,
   "metadata": {},
   "outputs": [],
   "source": [
    "class TreeNode:\n",
    "    def __init__(self, val):\n",
    "        self.val = val\n",
    "        self.left = None\n",
    "        self.right = None\n",
    "\n",
    "\n",
    "root = TreeNode(4)\n",
    "root.left = TreeNode(5) \n",
    "root.right = TreeNode(2)\n",
    "root.right.left = TreeNode(3)\n",
    "root.right.right = TreeNode(1)\n",
    "root.right.left.left = TreeNode(6)\n",
    "root.right.left.right = TreeNode(7)"
   ]
  },
  {
   "cell_type": "code",
   "execution_count": 28,
   "metadata": {},
   "outputs": [
    {
     "name": "stdout",
     "output_type": "stream",
     "text": [
      "4\n",
      "5\n",
      "3\n",
      "6\n"
     ]
    }
   ],
   "source": [
    "def leftView(node, is_left=True):\n",
    "    if node is None:\n",
    "        return \n",
    "    \n",
    "    if is_left:\n",
    "        print(node.val)\n",
    "    \n",
    "    leftView(node.left, is_left=True)\n",
    "    leftView(node.right, is_left=False)\n",
    "\n",
    "leftView(root)"
   ]
  },
  {
   "cell_type": "markdown",
   "metadata": {},
   "source": [
    "<aside>\n",
    "💡 Question-3:\n",
    "\n",
    "Given a Binary Tree, print the Right view of it.\n",
    "\n",
    "The right view of a Binary Tree is a set of nodes visible when the tree is visited from the Right side.\n",
    "\n",
    "**Examples:**\n",
    "\n",
    "**Input:**\n",
    "\n",
    "         1\n",
    "\n",
    "      /     \\\n",
    "\n",
    "   2         3\n",
    "\n",
    "/   \\       /  \\\n",
    "\n",
    "4     5   6    7\n",
    "\n",
    "             \\\n",
    "\n",
    "               8\n",
    "\n",
    "**Output**: \n",
    "\n",
    "Right view of the tree is 1 3 7 8\n",
    "\n",
    "**Input:**\n",
    "\n",
    "         1\n",
    "\n",
    "       /\n",
    "\n",
    "    8\n",
    "\n",
    "  /\n",
    "\n",
    "7\n",
    "\n",
    "**Output**: \n",
    "\n",
    "Right view of the tree is 1 8 7\n",
    "\n",
    "</aside>"
   ]
  },
  {
   "cell_type": "code",
   "execution_count": 34,
   "metadata": {},
   "outputs": [
    {
     "name": "stdout",
     "output_type": "stream",
     "text": [
      "1\n",
      "5\n",
      "3\n",
      "8\n",
      "7\n"
     ]
    }
   ],
   "source": [
    "class TreeNode:\n",
    "    def __init__(self, val):\n",
    "        self.val = val\n",
    "        self.left = None\n",
    "        self.right = None\n",
    "\n",
    "def rightView(node, is_right=True):\n",
    "    if node is None:\n",
    "        return None\n",
    "    \n",
    "    if is_right:\n",
    "        print(node.val)\n",
    "    \n",
    "    rightView(node.left, is_right=False)\n",
    "    rightView(node.right, is_right=True)\n",
    "\n",
    "\n",
    "root = TreeNode(1)\n",
    "root.left = TreeNode(2) \n",
    "root.right = TreeNode(3)\n",
    "root.left.left = TreeNode(4) \n",
    "root.left.right = TreeNode(5) \n",
    "root.right.left = TreeNode(6)\n",
    "root.right.right = TreeNode(7)\n",
    "root.right.left.right = TreeNode(8)\n",
    "\n",
    "rightView(root)"
   ]
  },
  {
   "cell_type": "markdown",
   "metadata": {},
   "source": [
    "<aside>\n",
    "💡 Question-4:\n",
    "\n",
    "Given a Binary Tree, The task is to print the **bottom view** from left to right. A node **x** is there in output if x is the bottommost node at its horizontal distance. The horizontal distance of the left child of a node x is equal to a horizontal distance of x minus 1, and that of a right child is the horizontal distance of x plus 1.\n",
    "\n",
    "**Examples:**\n",
    "\n",
    "**Input:**\n",
    "\n",
    "             20\n",
    "\n",
    "           /     \\\n",
    "\n",
    "        8         22\n",
    "\n",
    "    /      \\         \\\n",
    "\n",
    "5         3        25\n",
    "\n",
    "        /    \\\n",
    "\n",
    "   10       14\n",
    "\n",
    "**Output:** 5, 10, 3, 14, 25.\n",
    "\n",
    "**Input:**\n",
    "\n",
    "             20\n",
    "\n",
    "           /     \\\n",
    "\n",
    "        8         22\n",
    "\n",
    "    /      \\      /   \\\n",
    "\n",
    " 5         3    4     25\n",
    "\n",
    "         /    \\\n",
    "\n",
    "     10       14\n",
    "\n",
    "**Output:**\n",
    "\n",
    "5 10 4 14 25.\n",
    "\n",
    "**Explanation:**\n",
    "\n",
    "If there are multiple bottom-most nodes for a horizontal distance from the root, then print the later one in the level traversal.\n",
    "\n",
    "**3 and 4** are both the bottom-most nodes at a horizontal distance of 0, we need to print 4.\n",
    "\n",
    "</aside>"
   ]
  },
  {
   "cell_type": "code",
   "execution_count": 47,
   "metadata": {},
   "outputs": [
    {
     "name": "stdout",
     "output_type": "stream",
     "text": [
      "5\n",
      "10\n",
      "3\n",
      "14\n",
      "25\n"
     ]
    }
   ],
   "source": [
    "from collections import deque\n",
    "\n",
    "class Node:\n",
    "    def __init__(self, val):\n",
    "        self.val = val\n",
    "        self.left = None\n",
    "        self.right = None\n",
    "\n",
    "\n",
    "def findBottomView(node):\n",
    "    if node is None:\n",
    "        return \n",
    "    \n",
    "    hDistMap = {}\n",
    "    queue = deque([(root, 0)])\n",
    "\n",
    "    while queue:\n",
    "        currentNode, currentDistance = queue.popleft()\n",
    "\n",
    "        hDistMap[currentDistance] = currentNode.val\n",
    "\n",
    "        if currentNode.left:\n",
    "            queue.append((currentNode.left, currentDistance - 1))\n",
    "\n",
    "        if currentNode.right:\n",
    "            queue.append((currentNode.right, currentDistance + 1))\n",
    "\n",
    "    for dist in sorted(hDistMap.keys()):\n",
    "        print(hDistMap[dist])\n",
    "\n",
    "\n",
    "root = Node(20)\n",
    "root.left = Node(8)\n",
    "root.right = Node(22)\n",
    "root.left.left = Node(5)\n",
    "root.left.right = Node(3)\n",
    "root.right.right = Node(25)\n",
    "root.left.right.left = Node(10)\n",
    "root.left.right.right = Node(14)\n",
    "\n",
    "findBottomView(root)"
   ]
  },
  {
   "cell_type": "code",
   "execution_count": 48,
   "metadata": {},
   "outputs": [
    {
     "name": "stdout",
     "output_type": "stream",
     "text": [
      "5\n",
      "10\n",
      "4\n",
      "14\n",
      "25\n"
     ]
    }
   ],
   "source": [
    "root = Node(20)\n",
    "root.left = Node(8)\n",
    "root.right = Node(22)\n",
    "root.left.left = Node(5)\n",
    "root.left.right = Node(3)\n",
    "root.right.left = Node(4)\n",
    "root.right.right = Node(25)\n",
    "root.left.right.left = Node(10)\n",
    "root.left.right.right = Node(14)\n",
    "\n",
    "findBottomView(root)"
   ]
  },
  {
   "cell_type": "code",
   "execution_count": null,
   "metadata": {},
   "outputs": [],
   "source": []
  }
 ],
 "metadata": {
  "kernelspec": {
   "display_name": "Python 3",
   "language": "python",
   "name": "python3"
  },
  "language_info": {
   "codemirror_mode": {
    "name": "ipython",
    "version": 3
   },
   "file_extension": ".py",
   "mimetype": "text/x-python",
   "name": "python",
   "nbconvert_exporter": "python",
   "pygments_lexer": "ipython3",
   "version": "3.8.16"
  },
  "orig_nbformat": 4
 },
 "nbformat": 4,
 "nbformat_minor": 2
}
