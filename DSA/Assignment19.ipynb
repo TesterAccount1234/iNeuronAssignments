{
 "cells": [
  {
   "cell_type": "code",
   "execution_count": null,
   "metadata": {},
   "outputs": [],
   "source": []
  },
  {
   "attachments": {},
   "cell_type": "markdown",
   "metadata": {},
   "source": [
    "<aside>\n",
    "💡 **Count of Smaller Numbers After Self**\n",
    "\n",
    "Given an integer array `nums`, return *an integer array* `counts` *where* `counts[i]` *is the number of smaller elements to the right of* `nums[i]`.\n",
    "\n",
    "</aside>\n",
    "Example 1:\n",
    "Input: nums = [5,2,6,1]<br>\n",
    "Output: [2,1,1,0]<br>\n",
    "Explanation:<br>\n",
    "To the right of 5 there are2 smaller elements (2 and 1).<br>\n",
    "To the right of 2 there is only1 smaller element (1).<br>\n",
    "To the right of 6 there is1 smaller element (1).<br>\n",
    "To the right of 1 there is0 smaller element.\n",
    "\n",
    "\n",
    "Example 2:<br>\n",
    "Input: nums = [-1]<br>\n",
    "Output: [0]<br>\n",
    "\n",
    "Example 3:<br>\n",
    "Input: nums = [-1,-1]<br>\n",
    "Output: [0,0]"
   ]
  },
  {
   "cell_type": "code",
   "execution_count": 13,
   "metadata": {},
   "outputs": [],
   "source": [
    "def checkSmaller(nums):\n",
    "    res = [0] * len(nums)\n",
    "\n",
    "    l = 0\n",
    "    r = l + 1\n",
    "\n",
    "    while r <= len(nums) - 1:\n",
    "        if nums[r] < nums[l]:\n",
    "            res[l] += 1\n",
    "        r += 1\n",
    "        if r > len(nums) - 1:\n",
    "            l += 1\n",
    "            r = l + 1\n",
    "\n",
    "    return res"
   ]
  },
  {
   "cell_type": "code",
   "execution_count": 14,
   "metadata": {},
   "outputs": [
    {
     "data": {
      "text/plain": [
       "[2, 1, 1, 0]"
      ]
     },
     "execution_count": 14,
     "metadata": {},
     "output_type": "execute_result"
    }
   ],
   "source": [
    "nums = [5,2,6,1]\n",
    "checkSmaller(nums)"
   ]
  },
  {
   "cell_type": "code",
   "execution_count": 15,
   "metadata": {},
   "outputs": [
    {
     "data": {
      "text/plain": [
       "[0]"
      ]
     },
     "execution_count": 15,
     "metadata": {},
     "output_type": "execute_result"
    }
   ],
   "source": [
    "nums = [-1]\n",
    "checkSmaller(nums)"
   ]
  },
  {
   "cell_type": "code",
   "execution_count": 16,
   "metadata": {},
   "outputs": [
    {
     "data": {
      "text/plain": [
       "[0, 0]"
      ]
     },
     "execution_count": 16,
     "metadata": {},
     "output_type": "execute_result"
    }
   ],
   "source": [
    "nums = [-1,-1]\n",
    "checkSmaller(nums)"
   ]
  },
  {
   "attachments": {},
   "cell_type": "markdown",
   "metadata": {},
   "source": [
    "<aside>\n",
    "💡 **Sort an Array**\n",
    "\n",
    "Given an array of integers `nums`, sort the array in ascending order and return it.\n",
    "\n",
    "You must solve the problem **without using any built-in** functions in `O(nlog(n))` time complexity and with the smallest space complexity possible.\n",
    "\n",
    "**Example 1:**\n",
    "</aside>\n",
    "Input: nums = [5,2,3,1]<br>\n",
    "Output: [1,2,3,5]<br>\n",
    "Explanation: After sorting the array, the positions of some numbers are not changed (for example, 2 and 3), while the positions of other numbers are changed (for example, 1 and 5).\n",
    "\n",
    "Example 2:<br>\n",
    "Input: nums = [5,1,1,2,0,0]<br>\n",
    "Output: [0,0,1,1,2,5]<br>\n",
    "Explanation: Note that the values of nums are not necessairly unique."
   ]
  },
  {
   "cell_type": "code",
   "execution_count": 8,
   "metadata": {},
   "outputs": [
    {
     "data": {
      "text/plain": [
       "[2, 3, 1]"
      ]
     },
     "execution_count": 8,
     "metadata": {},
     "output_type": "execute_result"
    }
   ],
   "source": [
    "nums = [5,2,3,1]\n",
    "res = []\n",
    "\n",
    "l = 0\n",
    "r = len(nums) - 1\n",
    "i, j = 0, 0\n",
    "\n",
    "mid = (l + r) // 2\n",
    "\n",
    "left_half = nums[:mid]\n",
    "right_half = nums[mid:]\n",
    "\n",
    "while i < len(left_half) and j < len(right_half):\n",
    "    if left_half[i] <= right_half[j]:\n",
    "        res.append(left_half[i])\n",
    "        i += 1\n",
    "    else:\n",
    "        res.append(right_half[j]) \n",
    "        j += 1\n",
    "\n",
    "res"
   ]
  },
  {
   "cell_type": "code",
   "execution_count": 36,
   "metadata": {},
   "outputs": [
    {
     "data": {
      "text/plain": [
       "[1, 2, 3, 5]"
      ]
     },
     "execution_count": 36,
     "metadata": {},
     "output_type": "execute_result"
    }
   ],
   "source": [
    "def merge(nums):\n",
    "    if len(nums) <= 1:\n",
    "        return nums\n",
    "\n",
    "    mid = len(nums) // 2\n",
    "\n",
    "    left_half = nums[:mid]\n",
    "    right_half = nums[mid:]\n",
    "\n",
    "    left_half = merge(left_half)\n",
    "    right_half = merge(right_half)\n",
    "\n",
    "    return sort(left_half, right_half)\n",
    "\n",
    "def sort(left, right):\n",
    "    i, j = 0, 0\n",
    "    res = []\n",
    "\n",
    "    while i < len(left) and j < len(right):\n",
    "        if left[i] < right[j]:\n",
    "            res.append(left[i])\n",
    "            i += 1\n",
    "        else:\n",
    "            res.append(right[j])\n",
    "            j += 1\n",
    "\n",
    "    #Adding leftover elements\n",
    "    while i < len(left):\n",
    "        res.append(left[i])\n",
    "        i += 1\n",
    "        \n",
    "    #Adding leftover elements\n",
    "    while j < len(right):\n",
    "        res.append(right[j])\n",
    "        j+= 1\n",
    "\n",
    "    return res\n",
    "\n",
    "nums = [5,2,3,1]\n",
    "merged = merge(nums)\n",
    "merged"
   ]
  },
  {
   "cell_type": "code",
   "execution_count": 37,
   "metadata": {},
   "outputs": [
    {
     "data": {
      "text/plain": [
       "[0, 0, 1, 1, 2, 5]"
      ]
     },
     "execution_count": 37,
     "metadata": {},
     "output_type": "execute_result"
    }
   ],
   "source": [
    "nums = [5,1,1,2,0,0]\n",
    "merged = merge(nums)\n",
    "merged"
   ]
  },
  {
   "attachments": {},
   "cell_type": "markdown",
   "metadata": {},
   "source": [
    "<aside>\n",
    "💡 4. **Move all zeroes to end of array**\n",
    "\n",
    "Given an array of random numbers, Push all the zero’s of a given array to the end of the array. For example, if the given arrays is {1, 9, 8, 4, 0, 0, 2, 7, 0, 6, 0}, it should be changed to {1, 9, 8, 4, 2, 7, 6, 0, 0, 0, 0}. The order of all other elements should be same. Expected time complexity is O(n) and extra space is O(1).\n",
    "\n",
    "**Example:**\n",
    "\n",
    "</aside>\n",
    "Input :  arr[] = {1, 2, 0, 4, 3, 0, 5, 0};<br>\n",
    "Output : arr[] = {1, 2, 4, 3, 5, 0, 0, 0};<br>\n",
    "\n",
    "Input : arr[]  = {1, 2, 0, 0, 0, 3, 6};<br>\n",
    "Output : arr[] = {1, 2, 3, 6, 0, 0, 0};<br>"
   ]
  },
  {
   "cell_type": "code",
   "execution_count": 54,
   "metadata": {},
   "outputs": [
    {
     "data": {
      "text/plain": [
       "[1, 2, 4, 3, 5, 0, 0, 0]"
      ]
     },
     "execution_count": 54,
     "metadata": {},
     "output_type": "execute_result"
    }
   ],
   "source": [
    "def zeros(arr):\n",
    "    l = 0  \n",
    "    r = 0  \n",
    "\n",
    "    while r < len(arr):\n",
    "        if arr[r] != 0:\n",
    "            arr[l], arr[r] = arr[r], arr[l]\n",
    "            l += 1\n",
    "        r += 1\n",
    "    \n",
    "    while l < len(arr):\n",
    "        arr[l] = 0\n",
    "        l += 1\n",
    "\n",
    "    return arr\n",
    "\n",
    "arr = [1, 2, 0, 4, 3, 0, 5, 0]\n",
    "zeros(arr)"
   ]
  },
  {
   "cell_type": "code",
   "execution_count": 55,
   "metadata": {},
   "outputs": [
    {
     "data": {
      "text/plain": [
       "[1, 2, 3, 6, 0, 0, 0]"
      ]
     },
     "execution_count": 55,
     "metadata": {},
     "output_type": "execute_result"
    }
   ],
   "source": [
    "arr = [1, 2, 0, 0, 0, 3, 6]\n",
    "zeros(arr)"
   ]
  },
  {
   "attachments": {},
   "cell_type": "markdown",
   "metadata": {},
   "source": [
    "<aside>\n",
    "💡 **Rearrange array in alternating positive & negative items with O(1) extra space**\n",
    "\n",
    "Given an **array of positive** and **negative numbers**, arrange them in an **alternate** fashion such that every positive number is followed by a negative and vice-versa maintaining the **order of appearance**. The number of positive and negative numbers need not be equal. If there are more positive numbers they appear at the end of the array. If there are more negative numbers, they too appear at the end of the array.\n",
    "\n",
    "</aside>\n",
    "Examples:<br>\n",
    "Input:  arr[] = {1, 2, 3, -4, -1, 4}<br>\n",
    "Output: arr[] = {-4, 1, -1, 2, 3, 4}<br>\n",
    "\n",
    "Input:  arr[] = {-5, -2, 5, 2, 4, 7, 1, 8, 0, -8}<br>\n",
    "Output: arr[] = {-5, 5, -2, 2, -8, 4, 7, 1, 8, 0}<br>"
   ]
  },
  {
   "cell_type": "code",
   "execution_count": 31,
   "metadata": {},
   "outputs": [
    {
     "data": {
      "text/plain": [
       "[-4, 1, -1, 2, 3, 4]"
      ]
     },
     "execution_count": 31,
     "metadata": {},
     "output_type": "execute_result"
    }
   ],
   "source": [
    "arr = [1,2,3,-4,-1,4]\n",
    "\n",
    "l = 0\n",
    "r = 0\n",
    "\n",
    "while r < len(arr):\n",
    "    if arr[r] >= 0:\n",
    "        r += 1\n",
    "    else:\n",
    "        #Checking if previous element is greater than 0, if so then we insert\n",
    "        if l > 0 and arr[l-1] > 0:\n",
    "            arr.insert(l, arr[r])\n",
    "\n",
    "        # If first element is negative\n",
    "        elif l == 0 and arr[r] < 0:\n",
    "            arr.insert(l, arr[r])\n",
    "\n",
    "        # If 2nd element is negative\n",
    "        elif l == 1 and arr[r-1] < 0:\n",
    "            arr.insert(r + 1, arr[r])\n",
    "\n",
    "        #If previous element not greater than 0\n",
    "        else:\n",
    "            arr.insert(l + 1, arr[r])\n",
    "        l += 1\n",
    "        r += 1\n",
    "        del arr[r]\n",
    "\n",
    "arr"
   ]
  },
  {
   "cell_type": "code",
   "execution_count": 32,
   "metadata": {},
   "outputs": [
    {
     "data": {
      "text/plain": [
       "[-5, -2, 5, -8, 2, 4, 7, 1, 8, 0]"
      ]
     },
     "execution_count": 32,
     "metadata": {},
     "output_type": "execute_result"
    }
   ],
   "source": [
    "arr = [-5, -2, 5, 2, 4, 7, 1, 8, 0, -8]\n",
    "\n",
    "l = 0\n",
    "r = 0\n",
    "\n",
    "while r < len(arr):\n",
    "    if arr[r] >= 0:\n",
    "        r += 1\n",
    "    else:\n",
    "        #Checking if previous element is greater than 0, if so then we insert\n",
    "        if l > 0 and arr[l-1] > 0:\n",
    "            arr.insert(l, arr[r])\n",
    "\n",
    "        # If first element is negative\n",
    "        elif l == 0 and arr[r] < 0:\n",
    "            arr.insert(l, arr[r])\n",
    "\n",
    "        # If 2nd element is negative\n",
    "        elif l == 1 and arr[r-1] < 0:\n",
    "            arr.insert(r + 1, arr[r])\n",
    "\n",
    "        #If previous element not greater than 0\n",
    "        else:\n",
    "            arr.insert(l + 1, arr[r])\n",
    "        l += 1\n",
    "        r += 1\n",
    "        del arr[r]\n",
    "\n",
    "arr"
   ]
  },
  {
   "cell_type": "code",
   "execution_count": 5,
   "metadata": {},
   "outputs": [
    {
     "data": {
      "text/plain": [
       "[5, 2, 4, 7, 1, 8, 0, -2, -5, -8]"
      ]
     },
     "execution_count": 5,
     "metadata": {},
     "output_type": "execute_result"
    }
   ],
   "source": [
    "arr = [-5, -2, 5, 2, 4, 7, 1, 8, 0, -8]\n",
    "\n",
    "length = len(arr)\n",
    "pos = 0\n",
    "neg = 0\n",
    "\n",
    "while pos < length and neg < length:\n",
    "    # If first element was negative\n",
    "    if arr[neg] == 0 and arr[neg] < 0:\n",
    "        neg += 1\n",
    "    # Looking for negative value\n",
    "    elif arr[neg] >= 0:\n",
    "        neg += 1\n",
    "    # Looking for positive value\n",
    "    elif arr[pos] < 0:\n",
    "        pos += 1\n",
    "    # We have found negative and positive value\n",
    "    elif arr[neg] < 0 and arr[pos] >= 0:\n",
    "        arr[neg], arr[pos] = arr[pos], arr[neg]\n",
    "\n",
    "arr\n"
   ]
  },
  {
   "cell_type": "code",
   "execution_count": null,
   "metadata": {},
   "outputs": [],
   "source": []
  },
  {
   "cell_type": "code",
   "execution_count": null,
   "metadata": {},
   "outputs": [],
   "source": []
  },
  {
   "attachments": {},
   "cell_type": "markdown",
   "metadata": {},
   "source": [
    "<aside>\n",
    "💡 **Merge two sorted arrays**\n",
    "\n",
    "Given two sorted arrays, the task is to merge them in a sorted manner.\n",
    "\n",
    "**Examples:**\n",
    "\n",
    "> Input: arr1[] = { 1, 3, 4, 5}, arr2[] = {2, 4, 6, 8} <br>\n",
    "Output: arr3[] = {1, 2, 3, 4, 4, 5, 6, 8}<br>\n",
    "\n",
    "Input: arr1[] = { 5, 8, 9}, arr2[] = {4, 7, 8}<br>\n",
    "Output: arr3[] = {4, 5, 7, 8, 8, 9}<br>\n",
    "> \n",
    "</aside>"
   ]
  },
  {
   "cell_type": "code",
   "execution_count": 15,
   "metadata": {},
   "outputs": [
    {
     "data": {
      "text/plain": [
       "[4, 5, 7, 8, 8, 9]"
      ]
     },
     "execution_count": 15,
     "metadata": {},
     "output_type": "execute_result"
    }
   ],
   "source": [
    "def mergeTwo(arr1, arr2):\n",
    "    res = []\n",
    "    p1, p2 = 0, 0\n",
    "\n",
    "    while p1 < len(arr1) and p2 < len(arr2):\n",
    "        if arr1[p1] < arr2[p2]:\n",
    "            res.append(arr1[p1])\n",
    "            p1 += 1\n",
    "        else:\n",
    "            res.append(arr2[p2])\n",
    "            p2 += 1\n",
    "\n",
    "    #Adding remaining leftover elements\n",
    "    res.extend(arr1[p1:])\n",
    "    res.extend(arr2[p2:])\n",
    "    \n",
    "    return res\n",
    "\n",
    "arr1 = [5,8,9]\n",
    "arr2 = [4,7,8]\n",
    "mergeTwo(arr1, arr2)"
   ]
  },
  {
   "cell_type": "code",
   "execution_count": 16,
   "metadata": {},
   "outputs": [
    {
     "data": {
      "text/plain": [
       "[1, 2, 3, 4, 4, 5, 6, 8]"
      ]
     },
     "execution_count": 16,
     "metadata": {},
     "output_type": "execute_result"
    }
   ],
   "source": [
    "arr1 = [1, 3, 4, 5]\n",
    "arr2 = [2, 4, 6, 8]\n",
    "mergeTwo(arr1, arr2)"
   ]
  },
  {
   "attachments": {},
   "cell_type": "markdown",
   "metadata": {},
   "source": [
    "<aside>\n",
    "💡 **Intersection of Two Arrays**\n",
    "\n",
    "Given two integer arrays `nums1` and `nums2`, return *an array of their intersection*. Each element in the result must be **unique** and you may return the result in **any order**.\n",
    "\n",
    "**Example 1:**\n",
    "\n",
    "</aside>\n",
    "Input: nums1 = [1,2,2,1], nums2 = [2,2]<br>\n",
    "Output: [2]\n",
    "\n",
    "Example 2:<br>\n",
    "Input: nums1 = [4,9,5], nums2 = [9,4,9,8,4]<br>\n",
    "Output: [9,4]<br>\n",
    "Explanation: [4,9] is also accepted."
   ]
  },
  {
   "cell_type": "code",
   "execution_count": 26,
   "metadata": {},
   "outputs": [
    {
     "data": {
      "text/plain": [
       "[2]"
      ]
     },
     "execution_count": 26,
     "metadata": {},
     "output_type": "execute_result"
    }
   ],
   "source": [
    "def findIntersection(nums1, nums2):\n",
    "    res = []\n",
    "\n",
    "    if len(nums1) > len(nums2):\n",
    "        nums1, nums2 = nums2, nums1\n",
    "\n",
    "    for i in nums1:\n",
    "        if i in nums2:\n",
    "            if i not in res:\n",
    "                res.append(i)\n",
    "\n",
    "    return res\n",
    "\n",
    "nums1 = [1,2,2,1]\n",
    "nums2 = [2,2]\n",
    "findIntersection(nums1, nums2)"
   ]
  },
  {
   "cell_type": "code",
   "execution_count": 27,
   "metadata": {},
   "outputs": [
    {
     "data": {
      "text/plain": [
       "[4, 9]"
      ]
     },
     "execution_count": 27,
     "metadata": {},
     "output_type": "execute_result"
    }
   ],
   "source": [
    "nums1 = [4,9,5]\n",
    "nums2 = [9,4,9,8,4]\n",
    "findIntersection(nums1, nums2)"
   ]
  },
  {
   "attachments": {},
   "cell_type": "markdown",
   "metadata": {},
   "source": [
    "<aside>\n",
    "💡 **Intersection of Two Arrays II**\n",
    "\n",
    "Given two integer arrays `nums1` and `nums2`, return *an array of their intersection*. Each element in the result must appear as many times as it shows in both arrays and you may return the result in **any order**.\n",
    "\n",
    "**Example 1:**\n",
    "\n",
    "</aside>\n",
    "Input: nums1 = [1,2,2,1], nums2 = [2,2]<br>\n",
    "Output: [2,2]\n",
    "\n",
    "Example 2:<br>\n",
    "Input: nums1 = [4,9,5], nums2 = [9,4,9,8,4]<br>\n",
    "Output: [4,9]<br>\n",
    "Explanation: [9,4] is also accepted."
   ]
  },
  {
   "cell_type": "code",
   "execution_count": 28,
   "metadata": {},
   "outputs": [
    {
     "data": {
      "text/plain": [
       "[2, 2]"
      ]
     },
     "execution_count": 28,
     "metadata": {},
     "output_type": "execute_result"
    }
   ],
   "source": [
    "def findIntersection(nums1, nums2):\n",
    "    res = []\n",
    "\n",
    "    if len(nums1) > len(nums2):\n",
    "        nums1, nums2 = nums2, nums1\n",
    "\n",
    "    for i in nums1:\n",
    "        if i in nums2:\n",
    "            res.append(i)\n",
    "            nums2.remove(i)\n",
    "\n",
    "    return res\n",
    "\n",
    "nums1 = [1,2,2,1]\n",
    "nums2 = [2,2]\n",
    "findIntersection(nums1, nums2)"
   ]
  },
  {
   "cell_type": "code",
   "execution_count": 29,
   "metadata": {},
   "outputs": [
    {
     "data": {
      "text/plain": [
       "[4, 9]"
      ]
     },
     "execution_count": 29,
     "metadata": {},
     "output_type": "execute_result"
    }
   ],
   "source": [
    "nums1 = [4,9,5]\n",
    "nums2 = [9,4,9,8,4]\n",
    "findIntersection(nums1, nums2)"
   ]
  },
  {
   "cell_type": "code",
   "execution_count": null,
   "metadata": {},
   "outputs": [],
   "source": []
  }
 ],
 "metadata": {
  "kernelspec": {
   "display_name": "Python 3",
   "language": "python",
   "name": "python3"
  },
  "language_info": {
   "codemirror_mode": {
    "name": "ipython",
    "version": 3
   },
   "file_extension": ".py",
   "mimetype": "text/x-python",
   "name": "python",
   "nbconvert_exporter": "python",
   "pygments_lexer": "ipython3",
   "version": "3.8.16"
  },
  "orig_nbformat": 4
 },
 "nbformat": 4,
 "nbformat_minor": 2
}
