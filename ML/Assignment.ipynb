{
 "cells": [
  {
   "cell_type": "markdown",
   "metadata": {},
   "source": [
    "1. What does one mean by the term machine learning?\n",
    "\n",
    "Machine learning refers to a subfield of artificial intelligence (AI) that focuses on the development of algorithms and statistical models that enable computer systems to improve their performance on a specific task through learning from data, without being explicitly programmed. In essence, it's about creating algorithms that can automatically learn patterns, make predictions, or make decisions based on data and experience. This technology has applications in various fields, including data analysis, image recognition, natural language processing, and many others. If you're interested in becoming a data scientist, machine learning is a crucial area to study, as it plays a significant role in data analysis and predictive modeling"
   ]
  },
  {
   "cell_type": "markdown",
   "metadata": {},
   "source": [
    "2.Can you think of 4 distinct types of issues where it shines?\n",
    "\n",
    "- Recommendation Systems: Movie Recommendation. These systems analyze user behavior and preferences to suggest movies, products, or content tailored to individual users. Ex: Netflix \n",
    "- Image Recognition: This is used in facial recognition, object detection, medical image analysis, and even autonomous vehicles to identify and classify objects in their surroundings.\n",
    "- Natural Language Processing (NLP): Models can be used for tasks like sentiment analysis, language translation, chatbots, and text summarization, making it invaluable for understanding and generating human language.\n",
    "- Predictive Analytics: Machine learning is powerful for predictive modeling. It can be applied in financial forecasting, weather prediction, healthcare diagnosis, and fraud detection."
   ]
  },
  {
   "cell_type": "markdown",
   "metadata": {},
   "source": [
    "3.What is a labeled training set, and how does it work?\n",
    "\n",
    " It consists of a dataset where each data point (example) is associated with both input features and a corresponding output label or target value. \n",
    "\n",
    " During the training process, the machine learning model learns to make predictions by analyzing the input features and adjusting its internal parameters to minimize the difference between its predictions and the actual output labels in the training set.\n",
    "\n",
    " Once the model is trained on the labeled training set, it is evaluated on a separate dataset called the \"test set\" that it has never seen before. The performance of the model is assessed by comparing its predictions on the test set to the actual labels"
   ]
  },
  {
   "cell_type": "markdown",
   "metadata": {},
   "source": [
    "4.What are the two most important tasks that are supervised?\n",
    "\n",
    "Classification: In a classification problem, the goal is to learn a mapping from input features to a discrete output label. Examples include spam email detection, medical diagnosis. Classification is the task of assigning data points to predefined categories or classes.\n",
    "\n",
    "Regression: Regression involves predicting a continuous numerical value or quantity based on input features. In regression tasks, the model learns to establish a relationship between the input variables and the target variable, allowing it to make predictions within a range of possible values. Ex: Predicting house prices"
   ]
  },
  {
   "cell_type": "markdown",
   "metadata": {},
   "source": [
    "5.Can you think of four examples of unsupervised tasks?\n",
    "\n",
    "- Clustering: Clustering is the process of grouping similar data points together based on their inherent patterns or similarities. One common algorithm for clustering is K-Means clustering.\n",
    "- Dimensionality Reduction: Dimensionality reduction techniques aim to reduce the number of features or variables in a dataset while preserving its essential information. Principal Component Analysis (PCA) and t-Distributed Stochastic Neighbor Embedding (t-SNE) are examples of dimensionality reduction methods.\n",
    "- Association Rule Mining: Association rule mining discovers interesting patterns, relationships, or associations within a dataset. It is often used in market basket analysis, where the goal is to find relationships between items purchased together.\n",
    "- Anomaly Detection: Anomaly detection involves identifying data points or instances that deviate significantly from the expected or normal behavior within a dataset. This is crucial for detecting fraudulent transactions in financial systems, network intrusion detection"
   ]
  },
  {
   "cell_type": "markdown",
   "metadata": {},
   "source": [
    "6.State the machine learning model that would be best to make a robot walk through various\n",
    "unfamiliar terrains?\n",
    "\n",
    "Reinforcement Learning, a subset of machine learning, is particularly well-suited for this task. Within reinforcement learning, one of the most effective approaches is to use Deep Reinforcement Learning (DRL). \n",
    "\n",
    "The robot learns by trial and error in a simulated environment, using sensors to perceive the terrain and taking actions to maximize rewards (e.g., successfully traversing terrain). Once it learns in simulation, it transfers this knowledge to the real world. DRL enables the robot to adapt and navigate various terrains effectively."
   ]
  },
  {
   "cell_type": "markdown",
   "metadata": {},
   "source": [
    "7.Which algorithm will you use to divide your customers into different groups?\n",
    "\n",
    "K-Means clustering"
   ]
  },
  {
   "cell_type": "markdown",
   "metadata": {},
   "source": [
    "8.Will you consider the problem of spam detection to be a supervised or unsupervised learning\n",
    "problem?\n",
    "\n",
    "Spam detection is typically considered a supervised learning problem."
   ]
  },
  {
   "cell_type": "markdown",
   "metadata": {},
   "source": [
    "9.What is the concept of an online learning system?\n",
    "\n",
    "It is a framework that allows a machine learning model to continuously update and adapt its predictions or behavior as new data becomes available in a streaming or online fashion.\n",
    "\n",
    "In online learning, the model is designed to learn and update itself as new data points arrive sequentially over time. This enables the model to adapt to changing patterns and trends in the data."
   ]
  },
  {
   "cell_type": "markdown",
   "metadata": {},
   "source": [
    "10.What is out-of-core learning, and how does it differ from core learning?\n",
    "\n",
    "Out-of-core learning is a technique used in machine learning to train models on datasets that are too large to fit entirely into the computer's main memory (RAM). It is especially useful when dealing with big data, where the dataset size exceeds the available memory capacity. In contrast, core learning (or in-core learning) refers to traditional machine learning methods that assume the entire dataset can fit into memory."
   ]
  },
  {
   "cell_type": "markdown",
   "metadata": {},
   "source": [
    "11.What kind of learning algorithm makes predictions using a similarity measure?\n",
    "\n",
    "k-Nearest Neighbors (k-NN)"
   ]
  },
  {
   "cell_type": "markdown",
   "metadata": {},
   "source": [
    "12.Whats the difference between a model parameter and a hyperparameter in a learning algorithm?\n",
    "\n",
    "Model Parameters: These are internal variables learned from data during training and directly affect predictions (e.g., weights in a neural network).\n",
    "\n",
    "Hyperparameters: These are external settings set before training, affecting the learning process and model architecture (e.g., learning rate or number of layers)."
   ]
  },
  {
   "cell_type": "markdown",
   "metadata": {},
   "source": [
    "13.What are the criteria that model-based learning algorithms look for? What is the most popular\n",
    "method they use to achieve success? What method do they use to make predictions?\n",
    "\n",
    "Model-based learning algorithms seek to fit data accurately, generalize well, and sometimes provide interpretability. The most popular method they use is supervised learning, where they learn from labeled data and make predictions based on learned patterns."
   ]
  },
  {
   "cell_type": "markdown",
   "metadata": {},
   "source": [
    "14.Can you name four of the most important Machine Learning challenges?\n",
    "\n",
    "- Data Quality - Obtaining high-quality labeled data can be challenging, and having enough data for training accurate models is often a limitation. Data may contain noise, errors, or biases, which can affect model performance.\n",
    "- Overfitting Avoiding overfitting while capturing complex patterns is a continuous challenge.\n",
    "- Interpretability and Explainability\n",
    "- Bias"
   ]
  },
  {
   "cell_type": "markdown",
   "metadata": {},
   "source": [
    "15.What happens if the model performs well on the training data but fails to generalize the results\n",
    "to new situations? Can you think of three different options?\n",
    "\n",
    "To address overfitting, here are three different options:\n",
    "- Regularization Techniques.\n",
    "- More Diverse Data.\n",
    "- Simpler Models."
   ]
  },
  {
   "cell_type": "markdown",
   "metadata": {},
   "source": [
    "16.What exactly is a test set, and why would you need one?\n",
    "\n",
    "A test set, in the context of machine learning, is a separate portion of your dataset that is not used during the training of a machine learning model but is reserved for evaluating the model's performance. It serves as an independent dataset to assess how well the trained model generalizes to new, unseen data. Used for Performance Evaluation"
   ]
  },
  {
   "cell_type": "markdown",
   "metadata": {},
   "source": [
    "17.What is a validation sets purpose?\n",
    "\n",
    "A validation set is used for hyperparameter tuning, model selection, and early stopping in machine learning. It ensures your model performs well on unseen data and avoids overfitting."
   ]
  },
  {
   "cell_type": "markdown",
   "metadata": {},
   "source": [
    "18.What precisely is the train-dev kit, when will you need it, how do you put it to use?\n",
    "\n",
    "A development set (dev set) is a portion of your data used for tuning and evaluating your model during development. It's crucial for hyperparameter tuning, model selection, and ensuring your model generalizes well to new data."
   ]
  },
  {
   "cell_type": "markdown",
   "metadata": {},
   "source": [
    "19.What could go wrong if you use the test set to tune hyperparameters?\n",
    "\n",
    "- Data Leakage\n",
    "-Overfitting to the Test Set\n",
    "- Reduced Generalization"
   ]
  }
 ],
 "metadata": {
  "language_info": {
   "name": "python"
  },
  "orig_nbformat": 4
 },
 "nbformat": 4,
 "nbformat_minor": 2
}
